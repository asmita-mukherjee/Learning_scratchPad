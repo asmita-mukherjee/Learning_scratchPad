{
  "nbformat": 4,
  "nbformat_minor": 0,
  "metadata": {
    "colab": {
      "provenance": [],
      "gpuType": "T4",
      "authorship_tag": "ABX9TyN7qTjRQNWCHtTJeogCpCbM",
      "include_colab_link": true
    },
    "kernelspec": {
      "name": "python3",
      "display_name": "Python 3"
    },
    "language_info": {
      "name": "python"
    },
    "widgets": {
      "application/vnd.jupyter.widget-state+json": {
        "d20da2fc26254278aebcfef19b8d5a4a": {
          "model_module": "@jupyter-widgets/controls",
          "model_name": "HBoxModel",
          "model_module_version": "1.5.0",
          "state": {
            "_dom_classes": [],
            "_model_module": "@jupyter-widgets/controls",
            "_model_module_version": "1.5.0",
            "_model_name": "HBoxModel",
            "_view_count": null,
            "_view_module": "@jupyter-widgets/controls",
            "_view_module_version": "1.5.0",
            "_view_name": "HBoxView",
            "box_style": "",
            "children": [
              "IPY_MODEL_95d51bf198fa465f813c3233a6505ebb",
              "IPY_MODEL_87e1241bfbd84d1e9f976e2285f3185e",
              "IPY_MODEL_057248bf04e14b99b933bb3861a0e5fc"
            ],
            "layout": "IPY_MODEL_ec723c69a0344afb8eadb1f663612293"
          }
        },
        "95d51bf198fa465f813c3233a6505ebb": {
          "model_module": "@jupyter-widgets/controls",
          "model_name": "HTMLModel",
          "model_module_version": "1.5.0",
          "state": {
            "_dom_classes": [],
            "_model_module": "@jupyter-widgets/controls",
            "_model_module_version": "1.5.0",
            "_model_name": "HTMLModel",
            "_view_count": null,
            "_view_module": "@jupyter-widgets/controls",
            "_view_module_version": "1.5.0",
            "_view_name": "HTMLView",
            "description": "",
            "description_tooltip": null,
            "layout": "IPY_MODEL_d82d70db567c4245836254f6c0059591",
            "placeholder": "​",
            "style": "IPY_MODEL_efec741e95614fddb06c119c86ab8689",
            "value": "Downloading (…)solve/main/vocab.txt: 100%"
          }
        },
        "87e1241bfbd84d1e9f976e2285f3185e": {
          "model_module": "@jupyter-widgets/controls",
          "model_name": "FloatProgressModel",
          "model_module_version": "1.5.0",
          "state": {
            "_dom_classes": [],
            "_model_module": "@jupyter-widgets/controls",
            "_model_module_version": "1.5.0",
            "_model_name": "FloatProgressModel",
            "_view_count": null,
            "_view_module": "@jupyter-widgets/controls",
            "_view_module_version": "1.5.0",
            "_view_name": "ProgressView",
            "bar_style": "success",
            "description": "",
            "description_tooltip": null,
            "layout": "IPY_MODEL_c3490b30cb7a4c7585df52871e92dded",
            "max": 231508,
            "min": 0,
            "orientation": "horizontal",
            "style": "IPY_MODEL_7da257723e1a4186908dffe7a82dcac1",
            "value": 231508
          }
        },
        "057248bf04e14b99b933bb3861a0e5fc": {
          "model_module": "@jupyter-widgets/controls",
          "model_name": "HTMLModel",
          "model_module_version": "1.5.0",
          "state": {
            "_dom_classes": [],
            "_model_module": "@jupyter-widgets/controls",
            "_model_module_version": "1.5.0",
            "_model_name": "HTMLModel",
            "_view_count": null,
            "_view_module": "@jupyter-widgets/controls",
            "_view_module_version": "1.5.0",
            "_view_name": "HTMLView",
            "description": "",
            "description_tooltip": null,
            "layout": "IPY_MODEL_d3044e865ce04f0e926b779955b40283",
            "placeholder": "​",
            "style": "IPY_MODEL_62b2087f60f840f0ae8bd9938801cfd7",
            "value": " 232k/232k [00:00&lt;00:00, 1.53MB/s]"
          }
        },
        "ec723c69a0344afb8eadb1f663612293": {
          "model_module": "@jupyter-widgets/base",
          "model_name": "LayoutModel",
          "model_module_version": "1.2.0",
          "state": {
            "_model_module": "@jupyter-widgets/base",
            "_model_module_version": "1.2.0",
            "_model_name": "LayoutModel",
            "_view_count": null,
            "_view_module": "@jupyter-widgets/base",
            "_view_module_version": "1.2.0",
            "_view_name": "LayoutView",
            "align_content": null,
            "align_items": null,
            "align_self": null,
            "border": null,
            "bottom": null,
            "display": null,
            "flex": null,
            "flex_flow": null,
            "grid_area": null,
            "grid_auto_columns": null,
            "grid_auto_flow": null,
            "grid_auto_rows": null,
            "grid_column": null,
            "grid_gap": null,
            "grid_row": null,
            "grid_template_areas": null,
            "grid_template_columns": null,
            "grid_template_rows": null,
            "height": null,
            "justify_content": null,
            "justify_items": null,
            "left": null,
            "margin": null,
            "max_height": null,
            "max_width": null,
            "min_height": null,
            "min_width": null,
            "object_fit": null,
            "object_position": null,
            "order": null,
            "overflow": null,
            "overflow_x": null,
            "overflow_y": null,
            "padding": null,
            "right": null,
            "top": null,
            "visibility": null,
            "width": null
          }
        },
        "d82d70db567c4245836254f6c0059591": {
          "model_module": "@jupyter-widgets/base",
          "model_name": "LayoutModel",
          "model_module_version": "1.2.0",
          "state": {
            "_model_module": "@jupyter-widgets/base",
            "_model_module_version": "1.2.0",
            "_model_name": "LayoutModel",
            "_view_count": null,
            "_view_module": "@jupyter-widgets/base",
            "_view_module_version": "1.2.0",
            "_view_name": "LayoutView",
            "align_content": null,
            "align_items": null,
            "align_self": null,
            "border": null,
            "bottom": null,
            "display": null,
            "flex": null,
            "flex_flow": null,
            "grid_area": null,
            "grid_auto_columns": null,
            "grid_auto_flow": null,
            "grid_auto_rows": null,
            "grid_column": null,
            "grid_gap": null,
            "grid_row": null,
            "grid_template_areas": null,
            "grid_template_columns": null,
            "grid_template_rows": null,
            "height": null,
            "justify_content": null,
            "justify_items": null,
            "left": null,
            "margin": null,
            "max_height": null,
            "max_width": null,
            "min_height": null,
            "min_width": null,
            "object_fit": null,
            "object_position": null,
            "order": null,
            "overflow": null,
            "overflow_x": null,
            "overflow_y": null,
            "padding": null,
            "right": null,
            "top": null,
            "visibility": null,
            "width": null
          }
        },
        "efec741e95614fddb06c119c86ab8689": {
          "model_module": "@jupyter-widgets/controls",
          "model_name": "DescriptionStyleModel",
          "model_module_version": "1.5.0",
          "state": {
            "_model_module": "@jupyter-widgets/controls",
            "_model_module_version": "1.5.0",
            "_model_name": "DescriptionStyleModel",
            "_view_count": null,
            "_view_module": "@jupyter-widgets/base",
            "_view_module_version": "1.2.0",
            "_view_name": "StyleView",
            "description_width": ""
          }
        },
        "c3490b30cb7a4c7585df52871e92dded": {
          "model_module": "@jupyter-widgets/base",
          "model_name": "LayoutModel",
          "model_module_version": "1.2.0",
          "state": {
            "_model_module": "@jupyter-widgets/base",
            "_model_module_version": "1.2.0",
            "_model_name": "LayoutModel",
            "_view_count": null,
            "_view_module": "@jupyter-widgets/base",
            "_view_module_version": "1.2.0",
            "_view_name": "LayoutView",
            "align_content": null,
            "align_items": null,
            "align_self": null,
            "border": null,
            "bottom": null,
            "display": null,
            "flex": null,
            "flex_flow": null,
            "grid_area": null,
            "grid_auto_columns": null,
            "grid_auto_flow": null,
            "grid_auto_rows": null,
            "grid_column": null,
            "grid_gap": null,
            "grid_row": null,
            "grid_template_areas": null,
            "grid_template_columns": null,
            "grid_template_rows": null,
            "height": null,
            "justify_content": null,
            "justify_items": null,
            "left": null,
            "margin": null,
            "max_height": null,
            "max_width": null,
            "min_height": null,
            "min_width": null,
            "object_fit": null,
            "object_position": null,
            "order": null,
            "overflow": null,
            "overflow_x": null,
            "overflow_y": null,
            "padding": null,
            "right": null,
            "top": null,
            "visibility": null,
            "width": null
          }
        },
        "7da257723e1a4186908dffe7a82dcac1": {
          "model_module": "@jupyter-widgets/controls",
          "model_name": "ProgressStyleModel",
          "model_module_version": "1.5.0",
          "state": {
            "_model_module": "@jupyter-widgets/controls",
            "_model_module_version": "1.5.0",
            "_model_name": "ProgressStyleModel",
            "_view_count": null,
            "_view_module": "@jupyter-widgets/base",
            "_view_module_version": "1.2.0",
            "_view_name": "StyleView",
            "bar_color": null,
            "description_width": ""
          }
        },
        "d3044e865ce04f0e926b779955b40283": {
          "model_module": "@jupyter-widgets/base",
          "model_name": "LayoutModel",
          "model_module_version": "1.2.0",
          "state": {
            "_model_module": "@jupyter-widgets/base",
            "_model_module_version": "1.2.0",
            "_model_name": "LayoutModel",
            "_view_count": null,
            "_view_module": "@jupyter-widgets/base",
            "_view_module_version": "1.2.0",
            "_view_name": "LayoutView",
            "align_content": null,
            "align_items": null,
            "align_self": null,
            "border": null,
            "bottom": null,
            "display": null,
            "flex": null,
            "flex_flow": null,
            "grid_area": null,
            "grid_auto_columns": null,
            "grid_auto_flow": null,
            "grid_auto_rows": null,
            "grid_column": null,
            "grid_gap": null,
            "grid_row": null,
            "grid_template_areas": null,
            "grid_template_columns": null,
            "grid_template_rows": null,
            "height": null,
            "justify_content": null,
            "justify_items": null,
            "left": null,
            "margin": null,
            "max_height": null,
            "max_width": null,
            "min_height": null,
            "min_width": null,
            "object_fit": null,
            "object_position": null,
            "order": null,
            "overflow": null,
            "overflow_x": null,
            "overflow_y": null,
            "padding": null,
            "right": null,
            "top": null,
            "visibility": null,
            "width": null
          }
        },
        "62b2087f60f840f0ae8bd9938801cfd7": {
          "model_module": "@jupyter-widgets/controls",
          "model_name": "DescriptionStyleModel",
          "model_module_version": "1.5.0",
          "state": {
            "_model_module": "@jupyter-widgets/controls",
            "_model_module_version": "1.5.0",
            "_model_name": "DescriptionStyleModel",
            "_view_count": null,
            "_view_module": "@jupyter-widgets/base",
            "_view_module_version": "1.2.0",
            "_view_name": "StyleView",
            "description_width": ""
          }
        },
        "3ffcd1b167ae40b1851354197677be0a": {
          "model_module": "@jupyter-widgets/controls",
          "model_name": "HBoxModel",
          "model_module_version": "1.5.0",
          "state": {
            "_dom_classes": [],
            "_model_module": "@jupyter-widgets/controls",
            "_model_module_version": "1.5.0",
            "_model_name": "HBoxModel",
            "_view_count": null,
            "_view_module": "@jupyter-widgets/controls",
            "_view_module_version": "1.5.0",
            "_view_name": "HBoxView",
            "box_style": "",
            "children": [
              "IPY_MODEL_064f4196e4d040ea94c9caa1aa12383d",
              "IPY_MODEL_37aac0337c0c4355928b9e0a6fe1d1a2",
              "IPY_MODEL_86706b1a0e5d4fb2ba647f8102697d49"
            ],
            "layout": "IPY_MODEL_3a83cc5e86f5465c89d66485ba5a7dc1"
          }
        },
        "064f4196e4d040ea94c9caa1aa12383d": {
          "model_module": "@jupyter-widgets/controls",
          "model_name": "HTMLModel",
          "model_module_version": "1.5.0",
          "state": {
            "_dom_classes": [],
            "_model_module": "@jupyter-widgets/controls",
            "_model_module_version": "1.5.0",
            "_model_name": "HTMLModel",
            "_view_count": null,
            "_view_module": "@jupyter-widgets/controls",
            "_view_module_version": "1.5.0",
            "_view_name": "HTMLView",
            "description": "",
            "description_tooltip": null,
            "layout": "IPY_MODEL_6ba388f51eec4291bb13af4db40cd81b",
            "placeholder": "​",
            "style": "IPY_MODEL_a3f6233a188443e1b6f22d36ddf24332",
            "value": "Downloading (…)okenizer_config.json: 100%"
          }
        },
        "37aac0337c0c4355928b9e0a6fe1d1a2": {
          "model_module": "@jupyter-widgets/controls",
          "model_name": "FloatProgressModel",
          "model_module_version": "1.5.0",
          "state": {
            "_dom_classes": [],
            "_model_module": "@jupyter-widgets/controls",
            "_model_module_version": "1.5.0",
            "_model_name": "FloatProgressModel",
            "_view_count": null,
            "_view_module": "@jupyter-widgets/controls",
            "_view_module_version": "1.5.0",
            "_view_name": "ProgressView",
            "bar_style": "success",
            "description": "",
            "description_tooltip": null,
            "layout": "IPY_MODEL_f4c3d72629e44535942e4b6c1983bd6c",
            "max": 28,
            "min": 0,
            "orientation": "horizontal",
            "style": "IPY_MODEL_8e9f67788bc24bd09022973685cfb008",
            "value": 28
          }
        },
        "86706b1a0e5d4fb2ba647f8102697d49": {
          "model_module": "@jupyter-widgets/controls",
          "model_name": "HTMLModel",
          "model_module_version": "1.5.0",
          "state": {
            "_dom_classes": [],
            "_model_module": "@jupyter-widgets/controls",
            "_model_module_version": "1.5.0",
            "_model_name": "HTMLModel",
            "_view_count": null,
            "_view_module": "@jupyter-widgets/controls",
            "_view_module_version": "1.5.0",
            "_view_name": "HTMLView",
            "description": "",
            "description_tooltip": null,
            "layout": "IPY_MODEL_0f5b4694ef3d40c3977cc538d48b2713",
            "placeholder": "​",
            "style": "IPY_MODEL_aafcf0e4780d4d5ab01d1851427bfa69",
            "value": " 28.0/28.0 [00:00&lt;00:00, 2.20kB/s]"
          }
        },
        "3a83cc5e86f5465c89d66485ba5a7dc1": {
          "model_module": "@jupyter-widgets/base",
          "model_name": "LayoutModel",
          "model_module_version": "1.2.0",
          "state": {
            "_model_module": "@jupyter-widgets/base",
            "_model_module_version": "1.2.0",
            "_model_name": "LayoutModel",
            "_view_count": null,
            "_view_module": "@jupyter-widgets/base",
            "_view_module_version": "1.2.0",
            "_view_name": "LayoutView",
            "align_content": null,
            "align_items": null,
            "align_self": null,
            "border": null,
            "bottom": null,
            "display": null,
            "flex": null,
            "flex_flow": null,
            "grid_area": null,
            "grid_auto_columns": null,
            "grid_auto_flow": null,
            "grid_auto_rows": null,
            "grid_column": null,
            "grid_gap": null,
            "grid_row": null,
            "grid_template_areas": null,
            "grid_template_columns": null,
            "grid_template_rows": null,
            "height": null,
            "justify_content": null,
            "justify_items": null,
            "left": null,
            "margin": null,
            "max_height": null,
            "max_width": null,
            "min_height": null,
            "min_width": null,
            "object_fit": null,
            "object_position": null,
            "order": null,
            "overflow": null,
            "overflow_x": null,
            "overflow_y": null,
            "padding": null,
            "right": null,
            "top": null,
            "visibility": null,
            "width": null
          }
        },
        "6ba388f51eec4291bb13af4db40cd81b": {
          "model_module": "@jupyter-widgets/base",
          "model_name": "LayoutModel",
          "model_module_version": "1.2.0",
          "state": {
            "_model_module": "@jupyter-widgets/base",
            "_model_module_version": "1.2.0",
            "_model_name": "LayoutModel",
            "_view_count": null,
            "_view_module": "@jupyter-widgets/base",
            "_view_module_version": "1.2.0",
            "_view_name": "LayoutView",
            "align_content": null,
            "align_items": null,
            "align_self": null,
            "border": null,
            "bottom": null,
            "display": null,
            "flex": null,
            "flex_flow": null,
            "grid_area": null,
            "grid_auto_columns": null,
            "grid_auto_flow": null,
            "grid_auto_rows": null,
            "grid_column": null,
            "grid_gap": null,
            "grid_row": null,
            "grid_template_areas": null,
            "grid_template_columns": null,
            "grid_template_rows": null,
            "height": null,
            "justify_content": null,
            "justify_items": null,
            "left": null,
            "margin": null,
            "max_height": null,
            "max_width": null,
            "min_height": null,
            "min_width": null,
            "object_fit": null,
            "object_position": null,
            "order": null,
            "overflow": null,
            "overflow_x": null,
            "overflow_y": null,
            "padding": null,
            "right": null,
            "top": null,
            "visibility": null,
            "width": null
          }
        },
        "a3f6233a188443e1b6f22d36ddf24332": {
          "model_module": "@jupyter-widgets/controls",
          "model_name": "DescriptionStyleModel",
          "model_module_version": "1.5.0",
          "state": {
            "_model_module": "@jupyter-widgets/controls",
            "_model_module_version": "1.5.0",
            "_model_name": "DescriptionStyleModel",
            "_view_count": null,
            "_view_module": "@jupyter-widgets/base",
            "_view_module_version": "1.2.0",
            "_view_name": "StyleView",
            "description_width": ""
          }
        },
        "f4c3d72629e44535942e4b6c1983bd6c": {
          "model_module": "@jupyter-widgets/base",
          "model_name": "LayoutModel",
          "model_module_version": "1.2.0",
          "state": {
            "_model_module": "@jupyter-widgets/base",
            "_model_module_version": "1.2.0",
            "_model_name": "LayoutModel",
            "_view_count": null,
            "_view_module": "@jupyter-widgets/base",
            "_view_module_version": "1.2.0",
            "_view_name": "LayoutView",
            "align_content": null,
            "align_items": null,
            "align_self": null,
            "border": null,
            "bottom": null,
            "display": null,
            "flex": null,
            "flex_flow": null,
            "grid_area": null,
            "grid_auto_columns": null,
            "grid_auto_flow": null,
            "grid_auto_rows": null,
            "grid_column": null,
            "grid_gap": null,
            "grid_row": null,
            "grid_template_areas": null,
            "grid_template_columns": null,
            "grid_template_rows": null,
            "height": null,
            "justify_content": null,
            "justify_items": null,
            "left": null,
            "margin": null,
            "max_height": null,
            "max_width": null,
            "min_height": null,
            "min_width": null,
            "object_fit": null,
            "object_position": null,
            "order": null,
            "overflow": null,
            "overflow_x": null,
            "overflow_y": null,
            "padding": null,
            "right": null,
            "top": null,
            "visibility": null,
            "width": null
          }
        },
        "8e9f67788bc24bd09022973685cfb008": {
          "model_module": "@jupyter-widgets/controls",
          "model_name": "ProgressStyleModel",
          "model_module_version": "1.5.0",
          "state": {
            "_model_module": "@jupyter-widgets/controls",
            "_model_module_version": "1.5.0",
            "_model_name": "ProgressStyleModel",
            "_view_count": null,
            "_view_module": "@jupyter-widgets/base",
            "_view_module_version": "1.2.0",
            "_view_name": "StyleView",
            "bar_color": null,
            "description_width": ""
          }
        },
        "0f5b4694ef3d40c3977cc538d48b2713": {
          "model_module": "@jupyter-widgets/base",
          "model_name": "LayoutModel",
          "model_module_version": "1.2.0",
          "state": {
            "_model_module": "@jupyter-widgets/base",
            "_model_module_version": "1.2.0",
            "_model_name": "LayoutModel",
            "_view_count": null,
            "_view_module": "@jupyter-widgets/base",
            "_view_module_version": "1.2.0",
            "_view_name": "LayoutView",
            "align_content": null,
            "align_items": null,
            "align_self": null,
            "border": null,
            "bottom": null,
            "display": null,
            "flex": null,
            "flex_flow": null,
            "grid_area": null,
            "grid_auto_columns": null,
            "grid_auto_flow": null,
            "grid_auto_rows": null,
            "grid_column": null,
            "grid_gap": null,
            "grid_row": null,
            "grid_template_areas": null,
            "grid_template_columns": null,
            "grid_template_rows": null,
            "height": null,
            "justify_content": null,
            "justify_items": null,
            "left": null,
            "margin": null,
            "max_height": null,
            "max_width": null,
            "min_height": null,
            "min_width": null,
            "object_fit": null,
            "object_position": null,
            "order": null,
            "overflow": null,
            "overflow_x": null,
            "overflow_y": null,
            "padding": null,
            "right": null,
            "top": null,
            "visibility": null,
            "width": null
          }
        },
        "aafcf0e4780d4d5ab01d1851427bfa69": {
          "model_module": "@jupyter-widgets/controls",
          "model_name": "DescriptionStyleModel",
          "model_module_version": "1.5.0",
          "state": {
            "_model_module": "@jupyter-widgets/controls",
            "_model_module_version": "1.5.0",
            "_model_name": "DescriptionStyleModel",
            "_view_count": null,
            "_view_module": "@jupyter-widgets/base",
            "_view_module_version": "1.2.0",
            "_view_name": "StyleView",
            "description_width": ""
          }
        },
        "6d69ce5f7d4a4f9293104b32fd38f077": {
          "model_module": "@jupyter-widgets/controls",
          "model_name": "HBoxModel",
          "model_module_version": "1.5.0",
          "state": {
            "_dom_classes": [],
            "_model_module": "@jupyter-widgets/controls",
            "_model_module_version": "1.5.0",
            "_model_name": "HBoxModel",
            "_view_count": null,
            "_view_module": "@jupyter-widgets/controls",
            "_view_module_version": "1.5.0",
            "_view_name": "HBoxView",
            "box_style": "",
            "children": [
              "IPY_MODEL_4db471731b594c8083203a18c414e278",
              "IPY_MODEL_883bb48c7c6d4a02968e52de8989f9b9",
              "IPY_MODEL_b19dc91afd3947c795bef53983b746c0"
            ],
            "layout": "IPY_MODEL_1e4baeb7c0234f5fa901c109aab6abdd"
          }
        },
        "4db471731b594c8083203a18c414e278": {
          "model_module": "@jupyter-widgets/controls",
          "model_name": "HTMLModel",
          "model_module_version": "1.5.0",
          "state": {
            "_dom_classes": [],
            "_model_module": "@jupyter-widgets/controls",
            "_model_module_version": "1.5.0",
            "_model_name": "HTMLModel",
            "_view_count": null,
            "_view_module": "@jupyter-widgets/controls",
            "_view_module_version": "1.5.0",
            "_view_name": "HTMLView",
            "description": "",
            "description_tooltip": null,
            "layout": "IPY_MODEL_0d8d2d8072fd4559bcfc63a038442141",
            "placeholder": "​",
            "style": "IPY_MODEL_1398a7f9318040dbb20ac40ff9accc3e",
            "value": "Downloading (…)lve/main/config.json: 100%"
          }
        },
        "883bb48c7c6d4a02968e52de8989f9b9": {
          "model_module": "@jupyter-widgets/controls",
          "model_name": "FloatProgressModel",
          "model_module_version": "1.5.0",
          "state": {
            "_dom_classes": [],
            "_model_module": "@jupyter-widgets/controls",
            "_model_module_version": "1.5.0",
            "_model_name": "FloatProgressModel",
            "_view_count": null,
            "_view_module": "@jupyter-widgets/controls",
            "_view_module_version": "1.5.0",
            "_view_name": "ProgressView",
            "bar_style": "success",
            "description": "",
            "description_tooltip": null,
            "layout": "IPY_MODEL_8851eb41233b40e18187a6f349f5ea9e",
            "max": 570,
            "min": 0,
            "orientation": "horizontal",
            "style": "IPY_MODEL_f7da639ad6c44512b2173df8464636c4",
            "value": 570
          }
        },
        "b19dc91afd3947c795bef53983b746c0": {
          "model_module": "@jupyter-widgets/controls",
          "model_name": "HTMLModel",
          "model_module_version": "1.5.0",
          "state": {
            "_dom_classes": [],
            "_model_module": "@jupyter-widgets/controls",
            "_model_module_version": "1.5.0",
            "_model_name": "HTMLModel",
            "_view_count": null,
            "_view_module": "@jupyter-widgets/controls",
            "_view_module_version": "1.5.0",
            "_view_name": "HTMLView",
            "description": "",
            "description_tooltip": null,
            "layout": "IPY_MODEL_1f432b19d53448f59a84ac27e4a84a27",
            "placeholder": "​",
            "style": "IPY_MODEL_1c57851888324247aff6c62a4336cf75",
            "value": " 570/570 [00:00&lt;00:00, 40.1kB/s]"
          }
        },
        "1e4baeb7c0234f5fa901c109aab6abdd": {
          "model_module": "@jupyter-widgets/base",
          "model_name": "LayoutModel",
          "model_module_version": "1.2.0",
          "state": {
            "_model_module": "@jupyter-widgets/base",
            "_model_module_version": "1.2.0",
            "_model_name": "LayoutModel",
            "_view_count": null,
            "_view_module": "@jupyter-widgets/base",
            "_view_module_version": "1.2.0",
            "_view_name": "LayoutView",
            "align_content": null,
            "align_items": null,
            "align_self": null,
            "border": null,
            "bottom": null,
            "display": null,
            "flex": null,
            "flex_flow": null,
            "grid_area": null,
            "grid_auto_columns": null,
            "grid_auto_flow": null,
            "grid_auto_rows": null,
            "grid_column": null,
            "grid_gap": null,
            "grid_row": null,
            "grid_template_areas": null,
            "grid_template_columns": null,
            "grid_template_rows": null,
            "height": null,
            "justify_content": null,
            "justify_items": null,
            "left": null,
            "margin": null,
            "max_height": null,
            "max_width": null,
            "min_height": null,
            "min_width": null,
            "object_fit": null,
            "object_position": null,
            "order": null,
            "overflow": null,
            "overflow_x": null,
            "overflow_y": null,
            "padding": null,
            "right": null,
            "top": null,
            "visibility": null,
            "width": null
          }
        },
        "0d8d2d8072fd4559bcfc63a038442141": {
          "model_module": "@jupyter-widgets/base",
          "model_name": "LayoutModel",
          "model_module_version": "1.2.0",
          "state": {
            "_model_module": "@jupyter-widgets/base",
            "_model_module_version": "1.2.0",
            "_model_name": "LayoutModel",
            "_view_count": null,
            "_view_module": "@jupyter-widgets/base",
            "_view_module_version": "1.2.0",
            "_view_name": "LayoutView",
            "align_content": null,
            "align_items": null,
            "align_self": null,
            "border": null,
            "bottom": null,
            "display": null,
            "flex": null,
            "flex_flow": null,
            "grid_area": null,
            "grid_auto_columns": null,
            "grid_auto_flow": null,
            "grid_auto_rows": null,
            "grid_column": null,
            "grid_gap": null,
            "grid_row": null,
            "grid_template_areas": null,
            "grid_template_columns": null,
            "grid_template_rows": null,
            "height": null,
            "justify_content": null,
            "justify_items": null,
            "left": null,
            "margin": null,
            "max_height": null,
            "max_width": null,
            "min_height": null,
            "min_width": null,
            "object_fit": null,
            "object_position": null,
            "order": null,
            "overflow": null,
            "overflow_x": null,
            "overflow_y": null,
            "padding": null,
            "right": null,
            "top": null,
            "visibility": null,
            "width": null
          }
        },
        "1398a7f9318040dbb20ac40ff9accc3e": {
          "model_module": "@jupyter-widgets/controls",
          "model_name": "DescriptionStyleModel",
          "model_module_version": "1.5.0",
          "state": {
            "_model_module": "@jupyter-widgets/controls",
            "_model_module_version": "1.5.0",
            "_model_name": "DescriptionStyleModel",
            "_view_count": null,
            "_view_module": "@jupyter-widgets/base",
            "_view_module_version": "1.2.0",
            "_view_name": "StyleView",
            "description_width": ""
          }
        },
        "8851eb41233b40e18187a6f349f5ea9e": {
          "model_module": "@jupyter-widgets/base",
          "model_name": "LayoutModel",
          "model_module_version": "1.2.0",
          "state": {
            "_model_module": "@jupyter-widgets/base",
            "_model_module_version": "1.2.0",
            "_model_name": "LayoutModel",
            "_view_count": null,
            "_view_module": "@jupyter-widgets/base",
            "_view_module_version": "1.2.0",
            "_view_name": "LayoutView",
            "align_content": null,
            "align_items": null,
            "align_self": null,
            "border": null,
            "bottom": null,
            "display": null,
            "flex": null,
            "flex_flow": null,
            "grid_area": null,
            "grid_auto_columns": null,
            "grid_auto_flow": null,
            "grid_auto_rows": null,
            "grid_column": null,
            "grid_gap": null,
            "grid_row": null,
            "grid_template_areas": null,
            "grid_template_columns": null,
            "grid_template_rows": null,
            "height": null,
            "justify_content": null,
            "justify_items": null,
            "left": null,
            "margin": null,
            "max_height": null,
            "max_width": null,
            "min_height": null,
            "min_width": null,
            "object_fit": null,
            "object_position": null,
            "order": null,
            "overflow": null,
            "overflow_x": null,
            "overflow_y": null,
            "padding": null,
            "right": null,
            "top": null,
            "visibility": null,
            "width": null
          }
        },
        "f7da639ad6c44512b2173df8464636c4": {
          "model_module": "@jupyter-widgets/controls",
          "model_name": "ProgressStyleModel",
          "model_module_version": "1.5.0",
          "state": {
            "_model_module": "@jupyter-widgets/controls",
            "_model_module_version": "1.5.0",
            "_model_name": "ProgressStyleModel",
            "_view_count": null,
            "_view_module": "@jupyter-widgets/base",
            "_view_module_version": "1.2.0",
            "_view_name": "StyleView",
            "bar_color": null,
            "description_width": ""
          }
        },
        "1f432b19d53448f59a84ac27e4a84a27": {
          "model_module": "@jupyter-widgets/base",
          "model_name": "LayoutModel",
          "model_module_version": "1.2.0",
          "state": {
            "_model_module": "@jupyter-widgets/base",
            "_model_module_version": "1.2.0",
            "_model_name": "LayoutModel",
            "_view_count": null,
            "_view_module": "@jupyter-widgets/base",
            "_view_module_version": "1.2.0",
            "_view_name": "LayoutView",
            "align_content": null,
            "align_items": null,
            "align_self": null,
            "border": null,
            "bottom": null,
            "display": null,
            "flex": null,
            "flex_flow": null,
            "grid_area": null,
            "grid_auto_columns": null,
            "grid_auto_flow": null,
            "grid_auto_rows": null,
            "grid_column": null,
            "grid_gap": null,
            "grid_row": null,
            "grid_template_areas": null,
            "grid_template_columns": null,
            "grid_template_rows": null,
            "height": null,
            "justify_content": null,
            "justify_items": null,
            "left": null,
            "margin": null,
            "max_height": null,
            "max_width": null,
            "min_height": null,
            "min_width": null,
            "object_fit": null,
            "object_position": null,
            "order": null,
            "overflow": null,
            "overflow_x": null,
            "overflow_y": null,
            "padding": null,
            "right": null,
            "top": null,
            "visibility": null,
            "width": null
          }
        },
        "1c57851888324247aff6c62a4336cf75": {
          "model_module": "@jupyter-widgets/controls",
          "model_name": "DescriptionStyleModel",
          "model_module_version": "1.5.0",
          "state": {
            "_model_module": "@jupyter-widgets/controls",
            "_model_module_version": "1.5.0",
            "_model_name": "DescriptionStyleModel",
            "_view_count": null,
            "_view_module": "@jupyter-widgets/base",
            "_view_module_version": "1.2.0",
            "_view_name": "StyleView",
            "description_width": ""
          }
        },
        "7744231c0c2e478ba417fd971dc843de": {
          "model_module": "@jupyter-widgets/controls",
          "model_name": "HBoxModel",
          "model_module_version": "1.5.0",
          "state": {
            "_dom_classes": [],
            "_model_module": "@jupyter-widgets/controls",
            "_model_module_version": "1.5.0",
            "_model_name": "HBoxModel",
            "_view_count": null,
            "_view_module": "@jupyter-widgets/controls",
            "_view_module_version": "1.5.0",
            "_view_name": "HBoxView",
            "box_style": "",
            "children": [
              "IPY_MODEL_5c3b209ef12e46d097b82fe2114538e0",
              "IPY_MODEL_f38834580ea743b99e792468dc33b18c",
              "IPY_MODEL_70e0a4ac01a54695bfa020e0d36ce958"
            ],
            "layout": "IPY_MODEL_efa69b664d9b4e14827353ec237091c4"
          }
        },
        "5c3b209ef12e46d097b82fe2114538e0": {
          "model_module": "@jupyter-widgets/controls",
          "model_name": "HTMLModel",
          "model_module_version": "1.5.0",
          "state": {
            "_dom_classes": [],
            "_model_module": "@jupyter-widgets/controls",
            "_model_module_version": "1.5.0",
            "_model_name": "HTMLModel",
            "_view_count": null,
            "_view_module": "@jupyter-widgets/controls",
            "_view_module_version": "1.5.0",
            "_view_name": "HTMLView",
            "description": "",
            "description_tooltip": null,
            "layout": "IPY_MODEL_04d1c73828bd4310a60fbbdc968653e8",
            "placeholder": "​",
            "style": "IPY_MODEL_e25502c3eb1b4891bc951f09dffedd6e",
            "value": "Downloading pytorch_model.bin: 100%"
          }
        },
        "f38834580ea743b99e792468dc33b18c": {
          "model_module": "@jupyter-widgets/controls",
          "model_name": "FloatProgressModel",
          "model_module_version": "1.5.0",
          "state": {
            "_dom_classes": [],
            "_model_module": "@jupyter-widgets/controls",
            "_model_module_version": "1.5.0",
            "_model_name": "FloatProgressModel",
            "_view_count": null,
            "_view_module": "@jupyter-widgets/controls",
            "_view_module_version": "1.5.0",
            "_view_name": "ProgressView",
            "bar_style": "success",
            "description": "",
            "description_tooltip": null,
            "layout": "IPY_MODEL_3fcf2a4808b2467cbd1f7da34d134827",
            "max": 440473133,
            "min": 0,
            "orientation": "horizontal",
            "style": "IPY_MODEL_cfa963ed7c0c4e26820e7738f4a95230",
            "value": 440473133
          }
        },
        "70e0a4ac01a54695bfa020e0d36ce958": {
          "model_module": "@jupyter-widgets/controls",
          "model_name": "HTMLModel",
          "model_module_version": "1.5.0",
          "state": {
            "_dom_classes": [],
            "_model_module": "@jupyter-widgets/controls",
            "_model_module_version": "1.5.0",
            "_model_name": "HTMLModel",
            "_view_count": null,
            "_view_module": "@jupyter-widgets/controls",
            "_view_module_version": "1.5.0",
            "_view_name": "HTMLView",
            "description": "",
            "description_tooltip": null,
            "layout": "IPY_MODEL_8d5230f0f1d345a8a94a38720ccaa928",
            "placeholder": "​",
            "style": "IPY_MODEL_63d4399a92b248dd8b3c8c758c7922c4",
            "value": " 440M/440M [00:05&lt;00:00, 126MB/s]"
          }
        },
        "efa69b664d9b4e14827353ec237091c4": {
          "model_module": "@jupyter-widgets/base",
          "model_name": "LayoutModel",
          "model_module_version": "1.2.0",
          "state": {
            "_model_module": "@jupyter-widgets/base",
            "_model_module_version": "1.2.0",
            "_model_name": "LayoutModel",
            "_view_count": null,
            "_view_module": "@jupyter-widgets/base",
            "_view_module_version": "1.2.0",
            "_view_name": "LayoutView",
            "align_content": null,
            "align_items": null,
            "align_self": null,
            "border": null,
            "bottom": null,
            "display": null,
            "flex": null,
            "flex_flow": null,
            "grid_area": null,
            "grid_auto_columns": null,
            "grid_auto_flow": null,
            "grid_auto_rows": null,
            "grid_column": null,
            "grid_gap": null,
            "grid_row": null,
            "grid_template_areas": null,
            "grid_template_columns": null,
            "grid_template_rows": null,
            "height": null,
            "justify_content": null,
            "justify_items": null,
            "left": null,
            "margin": null,
            "max_height": null,
            "max_width": null,
            "min_height": null,
            "min_width": null,
            "object_fit": null,
            "object_position": null,
            "order": null,
            "overflow": null,
            "overflow_x": null,
            "overflow_y": null,
            "padding": null,
            "right": null,
            "top": null,
            "visibility": null,
            "width": null
          }
        },
        "04d1c73828bd4310a60fbbdc968653e8": {
          "model_module": "@jupyter-widgets/base",
          "model_name": "LayoutModel",
          "model_module_version": "1.2.0",
          "state": {
            "_model_module": "@jupyter-widgets/base",
            "_model_module_version": "1.2.0",
            "_model_name": "LayoutModel",
            "_view_count": null,
            "_view_module": "@jupyter-widgets/base",
            "_view_module_version": "1.2.0",
            "_view_name": "LayoutView",
            "align_content": null,
            "align_items": null,
            "align_self": null,
            "border": null,
            "bottom": null,
            "display": null,
            "flex": null,
            "flex_flow": null,
            "grid_area": null,
            "grid_auto_columns": null,
            "grid_auto_flow": null,
            "grid_auto_rows": null,
            "grid_column": null,
            "grid_gap": null,
            "grid_row": null,
            "grid_template_areas": null,
            "grid_template_columns": null,
            "grid_template_rows": null,
            "height": null,
            "justify_content": null,
            "justify_items": null,
            "left": null,
            "margin": null,
            "max_height": null,
            "max_width": null,
            "min_height": null,
            "min_width": null,
            "object_fit": null,
            "object_position": null,
            "order": null,
            "overflow": null,
            "overflow_x": null,
            "overflow_y": null,
            "padding": null,
            "right": null,
            "top": null,
            "visibility": null,
            "width": null
          }
        },
        "e25502c3eb1b4891bc951f09dffedd6e": {
          "model_module": "@jupyter-widgets/controls",
          "model_name": "DescriptionStyleModel",
          "model_module_version": "1.5.0",
          "state": {
            "_model_module": "@jupyter-widgets/controls",
            "_model_module_version": "1.5.0",
            "_model_name": "DescriptionStyleModel",
            "_view_count": null,
            "_view_module": "@jupyter-widgets/base",
            "_view_module_version": "1.2.0",
            "_view_name": "StyleView",
            "description_width": ""
          }
        },
        "3fcf2a4808b2467cbd1f7da34d134827": {
          "model_module": "@jupyter-widgets/base",
          "model_name": "LayoutModel",
          "model_module_version": "1.2.0",
          "state": {
            "_model_module": "@jupyter-widgets/base",
            "_model_module_version": "1.2.0",
            "_model_name": "LayoutModel",
            "_view_count": null,
            "_view_module": "@jupyter-widgets/base",
            "_view_module_version": "1.2.0",
            "_view_name": "LayoutView",
            "align_content": null,
            "align_items": null,
            "align_self": null,
            "border": null,
            "bottom": null,
            "display": null,
            "flex": null,
            "flex_flow": null,
            "grid_area": null,
            "grid_auto_columns": null,
            "grid_auto_flow": null,
            "grid_auto_rows": null,
            "grid_column": null,
            "grid_gap": null,
            "grid_row": null,
            "grid_template_areas": null,
            "grid_template_columns": null,
            "grid_template_rows": null,
            "height": null,
            "justify_content": null,
            "justify_items": null,
            "left": null,
            "margin": null,
            "max_height": null,
            "max_width": null,
            "min_height": null,
            "min_width": null,
            "object_fit": null,
            "object_position": null,
            "order": null,
            "overflow": null,
            "overflow_x": null,
            "overflow_y": null,
            "padding": null,
            "right": null,
            "top": null,
            "visibility": null,
            "width": null
          }
        },
        "cfa963ed7c0c4e26820e7738f4a95230": {
          "model_module": "@jupyter-widgets/controls",
          "model_name": "ProgressStyleModel",
          "model_module_version": "1.5.0",
          "state": {
            "_model_module": "@jupyter-widgets/controls",
            "_model_module_version": "1.5.0",
            "_model_name": "ProgressStyleModel",
            "_view_count": null,
            "_view_module": "@jupyter-widgets/base",
            "_view_module_version": "1.2.0",
            "_view_name": "StyleView",
            "bar_color": null,
            "description_width": ""
          }
        },
        "8d5230f0f1d345a8a94a38720ccaa928": {
          "model_module": "@jupyter-widgets/base",
          "model_name": "LayoutModel",
          "model_module_version": "1.2.0",
          "state": {
            "_model_module": "@jupyter-widgets/base",
            "_model_module_version": "1.2.0",
            "_model_name": "LayoutModel",
            "_view_count": null,
            "_view_module": "@jupyter-widgets/base",
            "_view_module_version": "1.2.0",
            "_view_name": "LayoutView",
            "align_content": null,
            "align_items": null,
            "align_self": null,
            "border": null,
            "bottom": null,
            "display": null,
            "flex": null,
            "flex_flow": null,
            "grid_area": null,
            "grid_auto_columns": null,
            "grid_auto_flow": null,
            "grid_auto_rows": null,
            "grid_column": null,
            "grid_gap": null,
            "grid_row": null,
            "grid_template_areas": null,
            "grid_template_columns": null,
            "grid_template_rows": null,
            "height": null,
            "justify_content": null,
            "justify_items": null,
            "left": null,
            "margin": null,
            "max_height": null,
            "max_width": null,
            "min_height": null,
            "min_width": null,
            "object_fit": null,
            "object_position": null,
            "order": null,
            "overflow": null,
            "overflow_x": null,
            "overflow_y": null,
            "padding": null,
            "right": null,
            "top": null,
            "visibility": null,
            "width": null
          }
        },
        "63d4399a92b248dd8b3c8c758c7922c4": {
          "model_module": "@jupyter-widgets/controls",
          "model_name": "DescriptionStyleModel",
          "model_module_version": "1.5.0",
          "state": {
            "_model_module": "@jupyter-widgets/controls",
            "_model_module_version": "1.5.0",
            "_model_name": "DescriptionStyleModel",
            "_view_count": null,
            "_view_module": "@jupyter-widgets/base",
            "_view_module_version": "1.2.0",
            "_view_name": "StyleView",
            "description_width": ""
          }
        }
      }
    },
    "accelerator": "GPU",
    "gpuClass": "standard"
  },
  "cells": [
    {
      "cell_type": "markdown",
      "metadata": {
        "id": "view-in-github",
        "colab_type": "text"
      },
      "source": [
        "<a href=\"https://colab.research.google.com/github/asmita-mukherjee/Learning_scratchPad/blob/main/Fine_Tuning_BERT_with_pytorch.ipynb\" target=\"_parent\"><img src=\"https://colab.research.google.com/assets/colab-badge.svg\" alt=\"Open In Colab\"/></a>"
      ]
    },
    {
      "cell_type": "markdown",
      "source": [
        "### Reference from : https://mccormickml.com/2019/07/22/BERT-fine-tuning/"
      ],
      "metadata": {
        "id": "p87EttBoo1Bs"
      }
    },
    {
      "cell_type": "code",
      "source": [
        "EPOCHS = 50"
      ],
      "metadata": {
        "id": "NWkUvkEfQN5G"
      },
      "execution_count": null,
      "outputs": []
    },
    {
      "cell_type": "markdown",
      "source": [
        "##Imports"
      ],
      "metadata": {
        "id": "VTP4_ghyorUB"
      }
    },
    {
      "cell_type": "code",
      "execution_count": null,
      "metadata": {
        "id": "-LHDLj-boUxB"
      },
      "outputs": [],
      "source": [
        "import torch"
      ]
    },
    {
      "cell_type": "code",
      "source": [
        "%%capture\n",
        "pip install transformers"
      ],
      "metadata": {
        "id": "ARaQ9ksypE0q"
      },
      "execution_count": null,
      "outputs": []
    },
    {
      "cell_type": "code",
      "source": [
        "import pandas as pd"
      ],
      "metadata": {
        "id": "K1MxxIeqpOWN"
      },
      "execution_count": null,
      "outputs": []
    },
    {
      "cell_type": "code",
      "source": [
        "from torch.utils.data import Dataset\n",
        "from torch.utils.data import DataLoader\n",
        "from torch.utils.data import random_split"
      ],
      "metadata": {
        "id": "ijOCihGQzG29"
      },
      "execution_count": null,
      "outputs": []
    },
    {
      "cell_type": "code",
      "source": [
        "from torch.optim import AdamW"
      ],
      "metadata": {
        "id": "k-fZzVcZOrcs"
      },
      "execution_count": null,
      "outputs": []
    },
    {
      "cell_type": "markdown",
      "source": [
        "##Fetching the data : https://nyu-mll.github.io/CoLA/\n",
        "\n",
        "> Corpus of Lingustic acceptability, Sentences annotated for acceptability in regards to its grammer"
      ],
      "metadata": {
        "id": "L6s-yOCapbSf"
      }
    },
    {
      "cell_type": "code",
      "source": [
        "import os"
      ],
      "metadata": {
        "id": "X_AzNPBVp8OD"
      },
      "execution_count": null,
      "outputs": []
    },
    {
      "cell_type": "code",
      "source": [
        "%%capture\n",
        "pip install wget"
      ],
      "metadata": {
        "id": "wRvfxLHQp_4n"
      },
      "execution_count": null,
      "outputs": []
    },
    {
      "cell_type": "code",
      "source": [
        "import wget"
      ],
      "metadata": {
        "id": "CfcruTG3qIpp"
      },
      "execution_count": null,
      "outputs": []
    },
    {
      "cell_type": "code",
      "source": [
        "url = 'https://nyu-mll.github.io/CoLA/cola_public_1.1.zip'\n",
        "\n",
        "# Download the file (if we haven't already)\n",
        "if not os.path.exists('./cola_public_1.1.zip'):\n",
        "    wget.download(url, './cola_public_1.1.zip')"
      ],
      "metadata": {
        "id": "mvzlivPJp3Z_"
      },
      "execution_count": null,
      "outputs": []
    },
    {
      "cell_type": "code",
      "source": [],
      "metadata": {
        "id": "tXNATTqeqSmp"
      },
      "execution_count": null,
      "outputs": []
    },
    {
      "cell_type": "code",
      "source": [
        "if not os.path.exists('./cola_public_1.1'):\n",
        "  !unzip \"./cola_public_1.1.zip\"\n"
      ],
      "metadata": {
        "colab": {
          "base_uri": "https://localhost:8080/"
        },
        "id": "NQ7JyeF9qNGg",
        "outputId": "de14292b-6ced-4fd6-f1c2-803e2f596263"
      },
      "execution_count": null,
      "outputs": [
        {
          "output_type": "stream",
          "name": "stdout",
          "text": [
            "Archive:  ./cola_public_1.1.zip\n",
            "   creating: cola_public/\n",
            "  inflating: cola_public/README      \n",
            "   creating: cola_public/tokenized/\n",
            "  inflating: cola_public/tokenized/in_domain_dev.tsv  \n",
            "  inflating: cola_public/tokenized/in_domain_train.tsv  \n",
            "  inflating: cola_public/tokenized/out_of_domain_dev.tsv  \n",
            "   creating: cola_public/raw/\n",
            "  inflating: cola_public/raw/in_domain_dev.tsv  \n",
            "  inflating: cola_public/raw/in_domain_train.tsv  \n",
            "  inflating: cola_public/raw/out_of_domain_dev.tsv  \n"
          ]
        }
      ]
    },
    {
      "cell_type": "markdown",
      "source": [
        "## Setting up device (obviously the most important step)"
      ],
      "metadata": {
        "id": "Mga3s07JotR8"
      }
    },
    {
      "cell_type": "code",
      "source": [
        "device = \"cuda\" if torch.cuda.is_available() else \"cpu\""
      ],
      "metadata": {
        "id": "6OcpNJs9oxjt"
      },
      "execution_count": null,
      "outputs": []
    },
    {
      "cell_type": "markdown",
      "source": [
        "## Sneak into the dataset"
      ],
      "metadata": {
        "id": "iI1t0T5jqoXg"
      }
    },
    {
      "cell_type": "code",
      "source": [
        "train_data = pd.read_csv(\"/content/cola_public/raw/in_domain_train.tsv\",delimiter='\\t',header=None,names=['sentence_source', 'label', 'label_notes', 'sentence'])"
      ],
      "metadata": {
        "id": "hTV5ZHeRo8wS"
      },
      "execution_count": null,
      "outputs": []
    },
    {
      "cell_type": "code",
      "source": [
        "train_data.head()"
      ],
      "metadata": {
        "colab": {
          "base_uri": "https://localhost:8080/",
          "height": 206
        },
        "id": "-L7biyO_q4BI",
        "outputId": "75148dd9-71e5-48b2-89be-2b39fd1d2816"
      },
      "execution_count": null,
      "outputs": [
        {
          "output_type": "execute_result",
          "data": {
            "text/plain": [
              "  sentence_source  label label_notes  \\\n",
              "0            gj04      1         NaN   \n",
              "1            gj04      1         NaN   \n",
              "2            gj04      1         NaN   \n",
              "3            gj04      1         NaN   \n",
              "4            gj04      1         NaN   \n",
              "\n",
              "                                            sentence  \n",
              "0  Our friends won't buy this analysis, let alone...  \n",
              "1  One more pseudo generalization and I'm giving up.  \n",
              "2   One more pseudo generalization or I'm giving up.  \n",
              "3     The more we study verbs, the crazier they get.  \n",
              "4          Day by day the facts are getting murkier.  "
            ],
            "text/html": [
              "\n",
              "  <div id=\"df-9f7115ff-d37f-4a8b-a8b6-ea56de9aea29\">\n",
              "    <div class=\"colab-df-container\">\n",
              "      <div>\n",
              "<style scoped>\n",
              "    .dataframe tbody tr th:only-of-type {\n",
              "        vertical-align: middle;\n",
              "    }\n",
              "\n",
              "    .dataframe tbody tr th {\n",
              "        vertical-align: top;\n",
              "    }\n",
              "\n",
              "    .dataframe thead th {\n",
              "        text-align: right;\n",
              "    }\n",
              "</style>\n",
              "<table border=\"1\" class=\"dataframe\">\n",
              "  <thead>\n",
              "    <tr style=\"text-align: right;\">\n",
              "      <th></th>\n",
              "      <th>sentence_source</th>\n",
              "      <th>label</th>\n",
              "      <th>label_notes</th>\n",
              "      <th>sentence</th>\n",
              "    </tr>\n",
              "  </thead>\n",
              "  <tbody>\n",
              "    <tr>\n",
              "      <th>0</th>\n",
              "      <td>gj04</td>\n",
              "      <td>1</td>\n",
              "      <td>NaN</td>\n",
              "      <td>Our friends won't buy this analysis, let alone...</td>\n",
              "    </tr>\n",
              "    <tr>\n",
              "      <th>1</th>\n",
              "      <td>gj04</td>\n",
              "      <td>1</td>\n",
              "      <td>NaN</td>\n",
              "      <td>One more pseudo generalization and I'm giving up.</td>\n",
              "    </tr>\n",
              "    <tr>\n",
              "      <th>2</th>\n",
              "      <td>gj04</td>\n",
              "      <td>1</td>\n",
              "      <td>NaN</td>\n",
              "      <td>One more pseudo generalization or I'm giving up.</td>\n",
              "    </tr>\n",
              "    <tr>\n",
              "      <th>3</th>\n",
              "      <td>gj04</td>\n",
              "      <td>1</td>\n",
              "      <td>NaN</td>\n",
              "      <td>The more we study verbs, the crazier they get.</td>\n",
              "    </tr>\n",
              "    <tr>\n",
              "      <th>4</th>\n",
              "      <td>gj04</td>\n",
              "      <td>1</td>\n",
              "      <td>NaN</td>\n",
              "      <td>Day by day the facts are getting murkier.</td>\n",
              "    </tr>\n",
              "  </tbody>\n",
              "</table>\n",
              "</div>\n",
              "      <button class=\"colab-df-convert\" onclick=\"convertToInteractive('df-9f7115ff-d37f-4a8b-a8b6-ea56de9aea29')\"\n",
              "              title=\"Convert this dataframe to an interactive table.\"\n",
              "              style=\"display:none;\">\n",
              "        \n",
              "  <svg xmlns=\"http://www.w3.org/2000/svg\" height=\"24px\"viewBox=\"0 0 24 24\"\n",
              "       width=\"24px\">\n",
              "    <path d=\"M0 0h24v24H0V0z\" fill=\"none\"/>\n",
              "    <path d=\"M18.56 5.44l.94 2.06.94-2.06 2.06-.94-2.06-.94-.94-2.06-.94 2.06-2.06.94zm-11 1L8.5 8.5l.94-2.06 2.06-.94-2.06-.94L8.5 2.5l-.94 2.06-2.06.94zm10 10l.94 2.06.94-2.06 2.06-.94-2.06-.94-.94-2.06-.94 2.06-2.06.94z\"/><path d=\"M17.41 7.96l-1.37-1.37c-.4-.4-.92-.59-1.43-.59-.52 0-1.04.2-1.43.59L10.3 9.45l-7.72 7.72c-.78.78-.78 2.05 0 2.83L4 21.41c.39.39.9.59 1.41.59.51 0 1.02-.2 1.41-.59l7.78-7.78 2.81-2.81c.8-.78.8-2.07 0-2.86zM5.41 20L4 18.59l7.72-7.72 1.47 1.35L5.41 20z\"/>\n",
              "  </svg>\n",
              "      </button>\n",
              "      \n",
              "  <style>\n",
              "    .colab-df-container {\n",
              "      display:flex;\n",
              "      flex-wrap:wrap;\n",
              "      gap: 12px;\n",
              "    }\n",
              "\n",
              "    .colab-df-convert {\n",
              "      background-color: #E8F0FE;\n",
              "      border: none;\n",
              "      border-radius: 50%;\n",
              "      cursor: pointer;\n",
              "      display: none;\n",
              "      fill: #1967D2;\n",
              "      height: 32px;\n",
              "      padding: 0 0 0 0;\n",
              "      width: 32px;\n",
              "    }\n",
              "\n",
              "    .colab-df-convert:hover {\n",
              "      background-color: #E2EBFA;\n",
              "      box-shadow: 0px 1px 2px rgba(60, 64, 67, 0.3), 0px 1px 3px 1px rgba(60, 64, 67, 0.15);\n",
              "      fill: #174EA6;\n",
              "    }\n",
              "\n",
              "    [theme=dark] .colab-df-convert {\n",
              "      background-color: #3B4455;\n",
              "      fill: #D2E3FC;\n",
              "    }\n",
              "\n",
              "    [theme=dark] .colab-df-convert:hover {\n",
              "      background-color: #434B5C;\n",
              "      box-shadow: 0px 1px 3px 1px rgba(0, 0, 0, 0.15);\n",
              "      filter: drop-shadow(0px 1px 2px rgba(0, 0, 0, 0.3));\n",
              "      fill: #FFFFFF;\n",
              "    }\n",
              "  </style>\n",
              "\n",
              "      <script>\n",
              "        const buttonEl =\n",
              "          document.querySelector('#df-9f7115ff-d37f-4a8b-a8b6-ea56de9aea29 button.colab-df-convert');\n",
              "        buttonEl.style.display =\n",
              "          google.colab.kernel.accessAllowed ? 'block' : 'none';\n",
              "\n",
              "        async function convertToInteractive(key) {\n",
              "          const element = document.querySelector('#df-9f7115ff-d37f-4a8b-a8b6-ea56de9aea29');\n",
              "          const dataTable =\n",
              "            await google.colab.kernel.invokeFunction('convertToInteractive',\n",
              "                                                     [key], {});\n",
              "          if (!dataTable) return;\n",
              "\n",
              "          const docLinkHtml = 'Like what you see? Visit the ' +\n",
              "            '<a target=\"_blank\" href=https://colab.research.google.com/notebooks/data_table.ipynb>data table notebook</a>'\n",
              "            + ' to learn more about interactive tables.';\n",
              "          element.innerHTML = '';\n",
              "          dataTable['output_type'] = 'display_data';\n",
              "          await google.colab.output.renderOutput(dataTable, element);\n",
              "          const docLink = document.createElement('div');\n",
              "          docLink.innerHTML = docLinkHtml;\n",
              "          element.appendChild(docLink);\n",
              "        }\n",
              "      </script>\n",
              "    </div>\n",
              "  </div>\n",
              "  "
            ]
          },
          "metadata": {},
          "execution_count": 14
        }
      ]
    },
    {
      "cell_type": "code",
      "source": [
        "train_data.info()"
      ],
      "metadata": {
        "colab": {
          "base_uri": "https://localhost:8080/"
        },
        "id": "zwc51VXuq5mr",
        "outputId": "27ad6344-229c-4d0b-9791-62015431f3d6"
      },
      "execution_count": null,
      "outputs": [
        {
          "output_type": "stream",
          "name": "stdout",
          "text": [
            "<class 'pandas.core.frame.DataFrame'>\n",
            "RangeIndex: 8551 entries, 0 to 8550\n",
            "Data columns (total 4 columns):\n",
            " #   Column           Non-Null Count  Dtype \n",
            "---  ------           --------------  ----- \n",
            " 0   sentence_source  8551 non-null   object\n",
            " 1   label            8551 non-null   int64 \n",
            " 2   label_notes      2527 non-null   object\n",
            " 3   sentence         8551 non-null   object\n",
            "dtypes: int64(1), object(3)\n",
            "memory usage: 267.3+ KB\n"
          ]
        }
      ]
    },
    {
      "cell_type": "markdown",
      "source": [
        "We only need the sentence and the label and those 2 cols do not have null"
      ],
      "metadata": {
        "id": "QL9fk8P0rOuU"
      }
    },
    {
      "cell_type": "code",
      "source": [
        "train_data.columns"
      ],
      "metadata": {
        "colab": {
          "base_uri": "https://localhost:8080/"
        },
        "id": "lJdaSneRrffE",
        "outputId": "eb6429c4-670b-40d4-875d-c6b6d754d106"
      },
      "execution_count": null,
      "outputs": [
        {
          "output_type": "execute_result",
          "data": {
            "text/plain": [
              "Index(['sentence_source', 'label', 'label_notes', 'sentence'], dtype='object')"
            ]
          },
          "metadata": {},
          "execution_count": 16
        }
      ]
    },
    {
      "cell_type": "code",
      "source": [
        "train_data = train_data[[\"sentence\",\"label\"]]"
      ],
      "metadata": {
        "id": "Wnz-9OfqrLNC"
      },
      "execution_count": null,
      "outputs": []
    },
    {
      "cell_type": "code",
      "source": [
        "train_data"
      ],
      "metadata": {
        "colab": {
          "base_uri": "https://localhost:8080/",
          "height": 423
        },
        "id": "pc3CLcmdrX4t",
        "outputId": "49afb6b3-c635-42f3-b3fd-869518434825"
      },
      "execution_count": null,
      "outputs": [
        {
          "output_type": "execute_result",
          "data": {
            "text/plain": [
              "                                               sentence  label\n",
              "0     Our friends won't buy this analysis, let alone...      1\n",
              "1     One more pseudo generalization and I'm giving up.      1\n",
              "2      One more pseudo generalization or I'm giving up.      1\n",
              "3        The more we study verbs, the crazier they get.      1\n",
              "4             Day by day the facts are getting murkier.      1\n",
              "...                                                 ...    ...\n",
              "8546                   Poseidon appears to own a dragon      0\n",
              "8547                     Digitize is my happiest memory      0\n",
              "8548                     It is easy to slay the Gorgon.      1\n",
              "8549       I had the strangest feeling that I knew you.      1\n",
              "8550                What all did you get for Christmas?      1\n",
              "\n",
              "[8551 rows x 2 columns]"
            ],
            "text/html": [
              "\n",
              "  <div id=\"df-18964c1a-af50-4f61-b7ab-ae57591046a5\">\n",
              "    <div class=\"colab-df-container\">\n",
              "      <div>\n",
              "<style scoped>\n",
              "    .dataframe tbody tr th:only-of-type {\n",
              "        vertical-align: middle;\n",
              "    }\n",
              "\n",
              "    .dataframe tbody tr th {\n",
              "        vertical-align: top;\n",
              "    }\n",
              "\n",
              "    .dataframe thead th {\n",
              "        text-align: right;\n",
              "    }\n",
              "</style>\n",
              "<table border=\"1\" class=\"dataframe\">\n",
              "  <thead>\n",
              "    <tr style=\"text-align: right;\">\n",
              "      <th></th>\n",
              "      <th>sentence</th>\n",
              "      <th>label</th>\n",
              "    </tr>\n",
              "  </thead>\n",
              "  <tbody>\n",
              "    <tr>\n",
              "      <th>0</th>\n",
              "      <td>Our friends won't buy this analysis, let alone...</td>\n",
              "      <td>1</td>\n",
              "    </tr>\n",
              "    <tr>\n",
              "      <th>1</th>\n",
              "      <td>One more pseudo generalization and I'm giving up.</td>\n",
              "      <td>1</td>\n",
              "    </tr>\n",
              "    <tr>\n",
              "      <th>2</th>\n",
              "      <td>One more pseudo generalization or I'm giving up.</td>\n",
              "      <td>1</td>\n",
              "    </tr>\n",
              "    <tr>\n",
              "      <th>3</th>\n",
              "      <td>The more we study verbs, the crazier they get.</td>\n",
              "      <td>1</td>\n",
              "    </tr>\n",
              "    <tr>\n",
              "      <th>4</th>\n",
              "      <td>Day by day the facts are getting murkier.</td>\n",
              "      <td>1</td>\n",
              "    </tr>\n",
              "    <tr>\n",
              "      <th>...</th>\n",
              "      <td>...</td>\n",
              "      <td>...</td>\n",
              "    </tr>\n",
              "    <tr>\n",
              "      <th>8546</th>\n",
              "      <td>Poseidon appears to own a dragon</td>\n",
              "      <td>0</td>\n",
              "    </tr>\n",
              "    <tr>\n",
              "      <th>8547</th>\n",
              "      <td>Digitize is my happiest memory</td>\n",
              "      <td>0</td>\n",
              "    </tr>\n",
              "    <tr>\n",
              "      <th>8548</th>\n",
              "      <td>It is easy to slay the Gorgon.</td>\n",
              "      <td>1</td>\n",
              "    </tr>\n",
              "    <tr>\n",
              "      <th>8549</th>\n",
              "      <td>I had the strangest feeling that I knew you.</td>\n",
              "      <td>1</td>\n",
              "    </tr>\n",
              "    <tr>\n",
              "      <th>8550</th>\n",
              "      <td>What all did you get for Christmas?</td>\n",
              "      <td>1</td>\n",
              "    </tr>\n",
              "  </tbody>\n",
              "</table>\n",
              "<p>8551 rows × 2 columns</p>\n",
              "</div>\n",
              "      <button class=\"colab-df-convert\" onclick=\"convertToInteractive('df-18964c1a-af50-4f61-b7ab-ae57591046a5')\"\n",
              "              title=\"Convert this dataframe to an interactive table.\"\n",
              "              style=\"display:none;\">\n",
              "        \n",
              "  <svg xmlns=\"http://www.w3.org/2000/svg\" height=\"24px\"viewBox=\"0 0 24 24\"\n",
              "       width=\"24px\">\n",
              "    <path d=\"M0 0h24v24H0V0z\" fill=\"none\"/>\n",
              "    <path d=\"M18.56 5.44l.94 2.06.94-2.06 2.06-.94-2.06-.94-.94-2.06-.94 2.06-2.06.94zm-11 1L8.5 8.5l.94-2.06 2.06-.94-2.06-.94L8.5 2.5l-.94 2.06-2.06.94zm10 10l.94 2.06.94-2.06 2.06-.94-2.06-.94-.94-2.06-.94 2.06-2.06.94z\"/><path d=\"M17.41 7.96l-1.37-1.37c-.4-.4-.92-.59-1.43-.59-.52 0-1.04.2-1.43.59L10.3 9.45l-7.72 7.72c-.78.78-.78 2.05 0 2.83L4 21.41c.39.39.9.59 1.41.59.51 0 1.02-.2 1.41-.59l7.78-7.78 2.81-2.81c.8-.78.8-2.07 0-2.86zM5.41 20L4 18.59l7.72-7.72 1.47 1.35L5.41 20z\"/>\n",
              "  </svg>\n",
              "      </button>\n",
              "      \n",
              "  <style>\n",
              "    .colab-df-container {\n",
              "      display:flex;\n",
              "      flex-wrap:wrap;\n",
              "      gap: 12px;\n",
              "    }\n",
              "\n",
              "    .colab-df-convert {\n",
              "      background-color: #E8F0FE;\n",
              "      border: none;\n",
              "      border-radius: 50%;\n",
              "      cursor: pointer;\n",
              "      display: none;\n",
              "      fill: #1967D2;\n",
              "      height: 32px;\n",
              "      padding: 0 0 0 0;\n",
              "      width: 32px;\n",
              "    }\n",
              "\n",
              "    .colab-df-convert:hover {\n",
              "      background-color: #E2EBFA;\n",
              "      box-shadow: 0px 1px 2px rgba(60, 64, 67, 0.3), 0px 1px 3px 1px rgba(60, 64, 67, 0.15);\n",
              "      fill: #174EA6;\n",
              "    }\n",
              "\n",
              "    [theme=dark] .colab-df-convert {\n",
              "      background-color: #3B4455;\n",
              "      fill: #D2E3FC;\n",
              "    }\n",
              "\n",
              "    [theme=dark] .colab-df-convert:hover {\n",
              "      background-color: #434B5C;\n",
              "      box-shadow: 0px 1px 3px 1px rgba(0, 0, 0, 0.15);\n",
              "      filter: drop-shadow(0px 1px 2px rgba(0, 0, 0, 0.3));\n",
              "      fill: #FFFFFF;\n",
              "    }\n",
              "  </style>\n",
              "\n",
              "      <script>\n",
              "        const buttonEl =\n",
              "          document.querySelector('#df-18964c1a-af50-4f61-b7ab-ae57591046a5 button.colab-df-convert');\n",
              "        buttonEl.style.display =\n",
              "          google.colab.kernel.accessAllowed ? 'block' : 'none';\n",
              "\n",
              "        async function convertToInteractive(key) {\n",
              "          const element = document.querySelector('#df-18964c1a-af50-4f61-b7ab-ae57591046a5');\n",
              "          const dataTable =\n",
              "            await google.colab.kernel.invokeFunction('convertToInteractive',\n",
              "                                                     [key], {});\n",
              "          if (!dataTable) return;\n",
              "\n",
              "          const docLinkHtml = 'Like what you see? Visit the ' +\n",
              "            '<a target=\"_blank\" href=https://colab.research.google.com/notebooks/data_table.ipynb>data table notebook</a>'\n",
              "            + ' to learn more about interactive tables.';\n",
              "          element.innerHTML = '';\n",
              "          dataTable['output_type'] = 'display_data';\n",
              "          await google.colab.output.renderOutput(dataTable, element);\n",
              "          const docLink = document.createElement('div');\n",
              "          docLink.innerHTML = docLinkHtml;\n",
              "          element.appendChild(docLink);\n",
              "        }\n",
              "      </script>\n",
              "    </div>\n",
              "  </div>\n",
              "  "
            ]
          },
          "metadata": {},
          "execution_count": 18
        }
      ]
    },
    {
      "cell_type": "code",
      "source": [
        "sentences = train_data.sentence\n",
        "labels = train_data.label"
      ],
      "metadata": {
        "id": "p7fhDG4rrwe2"
      },
      "execution_count": null,
      "outputs": []
    },
    {
      "cell_type": "markdown",
      "source": [
        "### Setting up the bert tokenizer\n",
        "\n",
        "> To feed our text data to the bert model, it needs to be formatted in a specific way i.e the way the bert model's input was formatted during pretraining. Also it needs to be mapped to the bert vocabulary, so that the text can be converted to vectors"
      ],
      "metadata": {
        "id": "8KDSIfcVr-_n"
      }
    },
    {
      "cell_type": "code",
      "source": [
        "from transformers import BertTokenizer\n",
        "tokenizer = BertTokenizer.from_pretrained('bert-base-uncased',do_lower_case=True) #loading the bert tokenizer from its pretrained model in the hugging face cloud"
      ],
      "metadata": {
        "colab": {
          "base_uri": "https://localhost:8080/",
          "height": 113,
          "referenced_widgets": [
            "d20da2fc26254278aebcfef19b8d5a4a",
            "95d51bf198fa465f813c3233a6505ebb",
            "87e1241bfbd84d1e9f976e2285f3185e",
            "057248bf04e14b99b933bb3861a0e5fc",
            "ec723c69a0344afb8eadb1f663612293",
            "d82d70db567c4245836254f6c0059591",
            "efec741e95614fddb06c119c86ab8689",
            "c3490b30cb7a4c7585df52871e92dded",
            "7da257723e1a4186908dffe7a82dcac1",
            "d3044e865ce04f0e926b779955b40283",
            "62b2087f60f840f0ae8bd9938801cfd7",
            "3ffcd1b167ae40b1851354197677be0a",
            "064f4196e4d040ea94c9caa1aa12383d",
            "37aac0337c0c4355928b9e0a6fe1d1a2",
            "86706b1a0e5d4fb2ba647f8102697d49",
            "3a83cc5e86f5465c89d66485ba5a7dc1",
            "6ba388f51eec4291bb13af4db40cd81b",
            "a3f6233a188443e1b6f22d36ddf24332",
            "f4c3d72629e44535942e4b6c1983bd6c",
            "8e9f67788bc24bd09022973685cfb008",
            "0f5b4694ef3d40c3977cc538d48b2713",
            "aafcf0e4780d4d5ab01d1851427bfa69",
            "6d69ce5f7d4a4f9293104b32fd38f077",
            "4db471731b594c8083203a18c414e278",
            "883bb48c7c6d4a02968e52de8989f9b9",
            "b19dc91afd3947c795bef53983b746c0",
            "1e4baeb7c0234f5fa901c109aab6abdd",
            "0d8d2d8072fd4559bcfc63a038442141",
            "1398a7f9318040dbb20ac40ff9accc3e",
            "8851eb41233b40e18187a6f349f5ea9e",
            "f7da639ad6c44512b2173df8464636c4",
            "1f432b19d53448f59a84ac27e4a84a27",
            "1c57851888324247aff6c62a4336cf75"
          ]
        },
        "id": "gTyMdtFlr3X6",
        "outputId": "2d82ed3a-9c36-499e-f498-ea2ae800564c"
      },
      "execution_count": null,
      "outputs": [
        {
          "output_type": "display_data",
          "data": {
            "text/plain": [
              "Downloading (…)solve/main/vocab.txt:   0%|          | 0.00/232k [00:00<?, ?B/s]"
            ],
            "application/vnd.jupyter.widget-view+json": {
              "version_major": 2,
              "version_minor": 0,
              "model_id": "d20da2fc26254278aebcfef19b8d5a4a"
            }
          },
          "metadata": {}
        },
        {
          "output_type": "display_data",
          "data": {
            "text/plain": [
              "Downloading (…)okenizer_config.json:   0%|          | 0.00/28.0 [00:00<?, ?B/s]"
            ],
            "application/vnd.jupyter.widget-view+json": {
              "version_major": 2,
              "version_minor": 0,
              "model_id": "3ffcd1b167ae40b1851354197677be0a"
            }
          },
          "metadata": {}
        },
        {
          "output_type": "display_data",
          "data": {
            "text/plain": [
              "Downloading (…)lve/main/config.json:   0%|          | 0.00/570 [00:00<?, ?B/s]"
            ],
            "application/vnd.jupyter.widget-view+json": {
              "version_major": 2,
              "version_minor": 0,
              "model_id": "6d69ce5f7d4a4f9293104b32fd38f077"
            }
          },
          "metadata": {}
        }
      ]
    },
    {
      "cell_type": "markdown",
      "source": [
        "#### What does the tokenizer actually do?"
      ],
      "metadata": {
        "id": "kTUeYfH_s71l"
      }
    },
    {
      "cell_type": "code",
      "source": [
        "sample = sentences[0]\n",
        "\n",
        "print(f\"Original -> \\n {sample}\")\n",
        "\n",
        "print(\"\\n\")\n",
        "\n",
        "print(f\"Tokenized -> \\n {tokenizer.tokenize(sample)}\")\n",
        "\n",
        "print(\"\\n\")\n",
        "print(f\"Token ids after tokenization -> \\n {tokenizer.convert_tokens_to_ids(tokenizer.tokenize(sample))}\")\n",
        "\n",
        "print(\"\\n\")\n",
        "print(f\"Tokenizer encode -> \\n {tokenizer.encode(sample)}\")\n",
        "\n",
        "print(\"\\n\")\n",
        "\n",
        "print(f\"Tokenizer decode after encode -> \\n {tokenizer.decode(tokenizer.encode(sample))}\")\n",
        "\n",
        "\n",
        "print(\"\\n\")\n",
        "print(f\"Tokenizer encode plus -> \\n {tokenizer.encode_plus(sample)}\")\n"
      ],
      "metadata": {
        "colab": {
          "base_uri": "https://localhost:8080/"
        },
        "id": "MhA9UW2HsmlM",
        "outputId": "1b89557e-0424-45bb-8df5-a37f8ef16dc0"
      },
      "execution_count": null,
      "outputs": [
        {
          "output_type": "stream",
          "name": "stdout",
          "text": [
            "Original -> \n",
            " Our friends won't buy this analysis, let alone the next one we propose.\n",
            "\n",
            "\n",
            "Tokenized -> \n",
            " ['our', 'friends', 'won', \"'\", 't', 'buy', 'this', 'analysis', ',', 'let', 'alone', 'the', 'next', 'one', 'we', 'propose', '.']\n",
            "\n",
            "\n",
            "Token ids after tokenization -> \n",
            " [2256, 2814, 2180, 1005, 1056, 4965, 2023, 4106, 1010, 2292, 2894, 1996, 2279, 2028, 2057, 16599, 1012]\n",
            "\n",
            "\n",
            "Tokenizer encode -> \n",
            " [101, 2256, 2814, 2180, 1005, 1056, 4965, 2023, 4106, 1010, 2292, 2894, 1996, 2279, 2028, 2057, 16599, 1012, 102]\n",
            "\n",
            "\n",
            "Tokenizer decode after encode -> \n",
            " [CLS] our friends won't buy this analysis, let alone the next one we propose. [SEP]\n",
            "\n",
            "\n",
            "Tokenizer encode plus -> \n",
            " {'input_ids': [101, 2256, 2814, 2180, 1005, 1056, 4965, 2023, 4106, 1010, 2292, 2894, 1996, 2279, 2028, 2057, 16599, 1012, 102], 'token_type_ids': [0, 0, 0, 0, 0, 0, 0, 0, 0, 0, 0, 0, 0, 0, 0, 0, 0, 0, 0], 'attention_mask': [1, 1, 1, 1, 1, 1, 1, 1, 1, 1, 1, 1, 1, 1, 1, 1, 1, 1, 1]}\n"
          ]
        }
      ]
    },
    {
      "cell_type": "markdown",
      "source": [
        "Thus tokenizer.encode adds the special tokens by default"
      ],
      "metadata": {
        "id": "FAeYjUPgyjPm"
      }
    },
    {
      "cell_type": "markdown",
      "source": [
        "## Thus let us prepare the customdataset and customdataloader required for pytorch training"
      ],
      "metadata": {
        "id": "OK86H8i8y7-K"
      }
    },
    {
      "cell_type": "code",
      "source": [
        "### Since each of our sentence vector must be of the same length ,hence find the max length of the encoded sentences\n",
        "max_len=0\n",
        "\n",
        "for sen in sentences:\n",
        "  max_len = max(max_len,len(tokenizer.encode(sen)))\n",
        "\n",
        "max_len\n"
      ],
      "metadata": {
        "colab": {
          "base_uri": "https://localhost:8080/"
        },
        "id": "cMS9iZXh7W-L",
        "outputId": "56a0d330-26df-4f4e-dbc7-abcc95154cf3"
      },
      "execution_count": null,
      "outputs": [
        {
          "output_type": "execute_result",
          "data": {
            "text/plain": [
              "47"
            ]
          },
          "metadata": {},
          "execution_count": 22
        }
      ]
    },
    {
      "cell_type": "markdown",
      "source": [
        "as per the author of the reference , setting the max length to be 64 , incase there are longer sentences in the test dataset"
      ],
      "metadata": {
        "id": "M2-KwTnN78js"
      }
    },
    {
      "cell_type": "code",
      "source": [
        "def encode_sentences(sentences):\n",
        "  input_ids =[]\n",
        "  attention_masks = []\n",
        "\n",
        "\n",
        "  for sen in sentences:\n",
        "    encoded = tokenizer.encode_plus(sen,max_length=64,pad_to_max_length=True,return_tensors=\"pt\")\n",
        "    input_ids.append(encoded[\"input_ids\"])\n",
        "    attention_masks.append(encoded[\"attention_mask\"])\n",
        "  \n",
        "  return input_ids,attention_masks\n"
      ],
      "metadata": {
        "id": "aNuy9Bfx8eHv"
      },
      "execution_count": null,
      "outputs": []
    },
    {
      "cell_type": "code",
      "source": [
        "train_input_ids,train_attention_mask = encode_sentences(sentences)"
      ],
      "metadata": {
        "id": "XeVHZSBe9MRU",
        "colab": {
          "base_uri": "https://localhost:8080/"
        },
        "outputId": "09c14ad6-0227-44ec-987d-cfbe1dc65533"
      },
      "execution_count": null,
      "outputs": [
        {
          "output_type": "stream",
          "name": "stderr",
          "text": [
            "Truncation was not explicitly activated but `max_length` is provided a specific value, please use `truncation=True` to explicitly truncate examples to max length. Defaulting to 'longest_first' truncation strategy. If you encode pairs of sequences (GLUE-style) with the tokenizer you can select this strategy more precisely by providing a specific strategy to `truncation`.\n",
            "/usr/local/lib/python3.10/dist-packages/transformers/tokenization_utils_base.py:2364: FutureWarning: The `pad_to_max_length` argument is deprecated and will be removed in a future version, use `padding=True` or `padding='longest'` to pad to the longest sequence in the batch, or use `padding='max_length'` to pad to a max length. In this case, you can give a specific length with `max_length` (e.g. `max_length=45`) or leave max_length to None to pad to the maximal input size of the model (e.g. 512 for Bert).\n",
            "  warnings.warn(\n"
          ]
        }
      ]
    },
    {
      "cell_type": "code",
      "source": [
        "train_input_ids = torch.cat(train_input_ids,dim=0)\n",
        "train_input_ids.shape"
      ],
      "metadata": {
        "colab": {
          "base_uri": "https://localhost:8080/"
        },
        "id": "xY05e5y39olQ",
        "outputId": "19ad4ceb-02e4-4fb1-b59e-4d7c3950b960"
      },
      "execution_count": null,
      "outputs": [
        {
          "output_type": "execute_result",
          "data": {
            "text/plain": [
              "torch.Size([8551, 64])"
            ]
          },
          "metadata": {},
          "execution_count": 25
        }
      ]
    },
    {
      "cell_type": "code",
      "source": [
        "train_attention_mask = torch.cat(train_attention_mask,dim=0)\n",
        "train_attention_mask.shape"
      ],
      "metadata": {
        "colab": {
          "base_uri": "https://localhost:8080/"
        },
        "id": "cytaO_AB96Vn",
        "outputId": "6bc59f90-076f-4821-91ee-b20c2bb6e8e1"
      },
      "execution_count": null,
      "outputs": [
        {
          "output_type": "execute_result",
          "data": {
            "text/plain": [
              "torch.Size([8551, 64])"
            ]
          },
          "metadata": {},
          "execution_count": 26
        }
      ]
    },
    {
      "cell_type": "code",
      "source": [
        "labels = torch.tensor(labels)\n",
        "labels.shape"
      ],
      "metadata": {
        "colab": {
          "base_uri": "https://localhost:8080/"
        },
        "id": "PcPIQXD1_8RH",
        "outputId": "0c127ffc-1e37-485f-c8f6-474d32efd094"
      },
      "execution_count": null,
      "outputs": [
        {
          "output_type": "execute_result",
          "data": {
            "text/plain": [
              "torch.Size([8551])"
            ]
          },
          "metadata": {},
          "execution_count": 27
        }
      ]
    },
    {
      "cell_type": "code",
      "source": [
        "class CustomDataset(Dataset):\n",
        "  def __init__(self,input_ids,attention_mask,labels):\n",
        "    \n",
        "    self.input_ids= input_ids.to(device)\n",
        "    self.attention_mask = attention_mask.to(device)\n",
        "    self.labels = labels.to(device)\n",
        "    \n",
        "  def __len__(self):\n",
        "    return len(self.labels)\n",
        "  \n",
        "  def __getitem__(self,idx):\n",
        "    return self.input_ids[idx],self.attention_mask[idx],self.labels[idx]\n"
      ],
      "metadata": {
        "id": "fxREW5dfuyQb"
      },
      "execution_count": null,
      "outputs": []
    },
    {
      "cell_type": "markdown",
      "source": [
        "### Converting to Dataset and splitting to train and val set"
      ],
      "metadata": {
        "id": "L67iQnze_rBe"
      }
    },
    {
      "cell_type": "code",
      "source": [
        "dataset = CustomDataset(train_input_ids,train_attention_mask,labels)"
      ],
      "metadata": {
        "id": "JA8lVwY97B49"
      },
      "execution_count": null,
      "outputs": []
    },
    {
      "cell_type": "code",
      "source": [
        "train_length = int(0.9*len(dataset))\n",
        "val_length = len(dataset) - train_length"
      ],
      "metadata": {
        "id": "kiemqXycDgfs"
      },
      "execution_count": null,
      "outputs": []
    },
    {
      "cell_type": "code",
      "source": [
        "train_dataset,val_dataset = random_split(dataset,[train_length,val_length])"
      ],
      "metadata": {
        "id": "HIYVLdzG_38P"
      },
      "execution_count": null,
      "outputs": []
    },
    {
      "cell_type": "code",
      "source": [
        "len(train_dataset),len(val_dataset)"
      ],
      "metadata": {
        "colab": {
          "base_uri": "https://localhost:8080/"
        },
        "id": "Dlw_knI9Dryb",
        "outputId": "2919c35a-529e-49ad-d9e0-a66045c52f47"
      },
      "execution_count": null,
      "outputs": [
        {
          "output_type": "execute_result",
          "data": {
            "text/plain": [
              "(7695, 856)"
            ]
          },
          "metadata": {},
          "execution_count": 32
        }
      ]
    },
    {
      "cell_type": "markdown",
      "source": [
        "### loading to Dataloader"
      ],
      "metadata": {
        "id": "0SLMgwb3D4Wd"
      }
    },
    {
      "cell_type": "code",
      "source": [
        "train_dataloader= DataLoader(train_dataset,batch_size=32,shuffle=True)\n",
        "val_dataloader = DataLoader(val_dataset,batch_size=32,shuffle=True)"
      ],
      "metadata": {
        "id": "RsXNXBcgDzNV"
      },
      "execution_count": null,
      "outputs": []
    },
    {
      "cell_type": "markdown",
      "source": [
        "### Load the model"
      ],
      "metadata": {
        "id": "jQ6fx0y4EuDt"
      }
    },
    {
      "cell_type": "code",
      "source": [
        "from transformers import BertForSequenceClassification\n",
        "\n",
        "model = BertForSequenceClassification.from_pretrained('bert-base-uncased',num_labels=2,output_attentions=False,output_hidden_states=False)"
      ],
      "metadata": {
        "colab": {
          "base_uri": "https://localhost:8080/",
          "height": 156,
          "referenced_widgets": [
            "7744231c0c2e478ba417fd971dc843de",
            "5c3b209ef12e46d097b82fe2114538e0",
            "f38834580ea743b99e792468dc33b18c",
            "70e0a4ac01a54695bfa020e0d36ce958",
            "efa69b664d9b4e14827353ec237091c4",
            "04d1c73828bd4310a60fbbdc968653e8",
            "e25502c3eb1b4891bc951f09dffedd6e",
            "3fcf2a4808b2467cbd1f7da34d134827",
            "cfa963ed7c0c4e26820e7738f4a95230",
            "8d5230f0f1d345a8a94a38720ccaa928",
            "63d4399a92b248dd8b3c8c758c7922c4"
          ]
        },
        "id": "NYcZ_OMNET-q",
        "outputId": "c841bbfb-f8eb-4eae-ff13-19cd15986915"
      },
      "execution_count": null,
      "outputs": [
        {
          "output_type": "display_data",
          "data": {
            "text/plain": [
              "Downloading pytorch_model.bin:   0%|          | 0.00/440M [00:00<?, ?B/s]"
            ],
            "application/vnd.jupyter.widget-view+json": {
              "version_major": 2,
              "version_minor": 0,
              "model_id": "7744231c0c2e478ba417fd971dc843de"
            }
          },
          "metadata": {}
        },
        {
          "output_type": "stream",
          "name": "stderr",
          "text": [
            "Some weights of the model checkpoint at bert-base-uncased were not used when initializing BertForSequenceClassification: ['cls.predictions.transform.dense.weight', 'cls.seq_relationship.weight', 'cls.predictions.decoder.weight', 'cls.predictions.transform.LayerNorm.bias', 'cls.predictions.transform.LayerNorm.weight', 'cls.predictions.bias', 'cls.predictions.transform.dense.bias', 'cls.seq_relationship.bias']\n",
            "- This IS expected if you are initializing BertForSequenceClassification from the checkpoint of a model trained on another task or with another architecture (e.g. initializing a BertForSequenceClassification model from a BertForPreTraining model).\n",
            "- This IS NOT expected if you are initializing BertForSequenceClassification from the checkpoint of a model that you expect to be exactly identical (initializing a BertForSequenceClassification model from a BertForSequenceClassification model).\n",
            "Some weights of BertForSequenceClassification were not initialized from the model checkpoint at bert-base-uncased and are newly initialized: ['classifier.weight', 'classifier.bias']\n",
            "You should probably TRAIN this model on a down-stream task to be able to use it for predictions and inference.\n"
          ]
        }
      ]
    },
    {
      "cell_type": "code",
      "source": [
        "model = model.to(device)  "
      ],
      "metadata": {
        "id": "pzdTLAKwFlZD"
      },
      "execution_count": 51,
      "outputs": []
    },
    {
      "cell_type": "markdown",
      "source": [
        "#### Feezing the top 12 layers of bert"
      ],
      "metadata": {
        "id": "cIsQ34QAYFQB"
      }
    },
    {
      "cell_type": "code",
      "source": [
        "l = [1,2,3,4,5]\n",
        "l[:-2]"
      ],
      "metadata": {
        "colab": {
          "base_uri": "https://localhost:8080/"
        },
        "id": "zwTbO1sXZGck",
        "outputId": "cbd9cf3a-1436-403f-a50c-62fe301d138e"
      },
      "execution_count": 52,
      "outputs": [
        {
          "output_type": "execute_result",
          "data": {
            "text/plain": [
              "[1, 2, 3]"
            ]
          },
          "metadata": {},
          "execution_count": 52
        }
      ]
    },
    {
      "cell_type": "code",
      "source": [
        "model.parameters()"
      ],
      "metadata": {
        "colab": {
          "base_uri": "https://localhost:8080/"
        },
        "id": "qbvmdrIwZn0c",
        "outputId": "7765c8ef-f144-4983-ca36-0e51d5a2e2e2"
      },
      "execution_count": 53,
      "outputs": [
        {
          "output_type": "execute_result",
          "data": {
            "text/plain": [
              "<generator object Module.parameters at 0x7f1bfdb37f40>"
            ]
          },
          "metadata": {},
          "execution_count": 53
        }
      ]
    },
    {
      "cell_type": "code",
      "source": [
        "for name,param in list(model.named_parameters())[:12]:\n",
        "  print(name)\n",
        "  param.requires_grad=False"
      ],
      "metadata": {
        "colab": {
          "base_uri": "https://localhost:8080/"
        },
        "id": "anWrwgUpYpT_",
        "outputId": "b949639e-1181-439b-ef2d-f3e0d74cda5b"
      },
      "execution_count": 54,
      "outputs": [
        {
          "output_type": "stream",
          "name": "stdout",
          "text": [
            "bert.embeddings.word_embeddings.weight\n",
            "bert.embeddings.position_embeddings.weight\n",
            "bert.embeddings.token_type_embeddings.weight\n",
            "bert.embeddings.LayerNorm.weight\n",
            "bert.embeddings.LayerNorm.bias\n",
            "bert.encoder.layer.0.attention.self.query.weight\n",
            "bert.encoder.layer.0.attention.self.query.bias\n",
            "bert.encoder.layer.0.attention.self.key.weight\n",
            "bert.encoder.layer.0.attention.self.key.bias\n",
            "bert.encoder.layer.0.attention.self.value.weight\n",
            "bert.encoder.layer.0.attention.self.value.bias\n",
            "bert.encoder.layer.0.attention.output.dense.weight\n"
          ]
        }
      ]
    },
    {
      "cell_type": "markdown",
      "source": [
        "## Set the optimizer"
      ],
      "metadata": {
        "id": "lkzd9_HlO6h6"
      }
    },
    {
      "cell_type": "code",
      "source": [
        "optimizer = AdamW(model.parameters(),lr=2e-5,eps=1e-8)"
      ],
      "metadata": {
        "id": "ob4gbXK1GCN5"
      },
      "execution_count": 55,
      "outputs": []
    },
    {
      "cell_type": "markdown",
      "source": [
        "## Training loop"
      ],
      "metadata": {
        "id": "PkZvchbRP_qA"
      }
    },
    {
      "cell_type": "code",
      "source": [
        "import time"
      ],
      "metadata": {
        "id": "1-oCCvibTNp8"
      },
      "execution_count": 56,
      "outputs": []
    },
    {
      "cell_type": "code",
      "source": [
        "\n",
        "def train_for_one_epoch(dataloader):\n",
        "  \n",
        "  t0 = time.time()\n",
        "\n",
        "  total_loss = 0\n",
        "\n",
        "  for idx,data in enumerate(train_dataloader):\n",
        "    input_ids,attention_mask,labels = data\n",
        "\n",
        "    optimizer.zero_grad()\n",
        "\n",
        "    outputs = model(input_ids,attention_mask=attention_mask,labels=labels)\n",
        "\n",
        "    loss = outputs.loss\n",
        "\n",
        "    total_loss += loss.item()\n",
        "\n",
        "    loss.backward()\n",
        "\n",
        "    #clip the norm of the grad to 1.0\n",
        "    torch.nn.utils.clip_grad_norm_(model.parameters(),1.0)\n",
        "\n",
        "    optimizer.step()\n",
        "\n",
        "\n",
        "  #avg_train_loss\n",
        "  avg_train_loss = total_loss/len(train_dataloader)\n",
        "\n",
        "  # Measure how long this epoch took.\n",
        "  training_time = (time.time() - t0)\n",
        "\n",
        "  print(\"\")\n",
        "  print(\"  Average training loss: {0:.2f}\".format(avg_train_loss))\n",
        "  print(\"  Training epooch took: {:}\".format(training_time))\n",
        "\n",
        "  return avg_train_loss\n",
        "\n",
        "\n"
      ],
      "metadata": {
        "id": "PjFMQLF0Qpq5"
      },
      "execution_count": 57,
      "outputs": []
    },
    {
      "cell_type": "code",
      "source": [
        "def validation(dataloader):\n",
        "  \n",
        "  total_loss = 0\n",
        "\n",
        "  for idx,data in enumerate(dataloader):\n",
        "    input_ids,attention_mask,labels = data\n",
        "\n",
        "    outputs = model(input_ids,attention_mask=attention_mask,labels=labels)\n",
        "    loss = outputs.loss\n",
        "\n",
        "    total_loss += loss.item()\n",
        "\n",
        "  avg_loss = total_loss/len(dataloader)\n",
        "\n",
        "  print(\"\")\n",
        "  print(\"  Average Validation loss: {0:.2f}\".format(avg_loss))\n",
        "\n",
        "  return avg_loss\n"
      ],
      "metadata": {
        "id": "SDg8FM5vVHbt"
      },
      "execution_count": 58,
      "outputs": []
    },
    {
      "cell_type": "code",
      "source": [
        "list_of_train_loss = []\n",
        "list_of_val_loss = []\n",
        "\n",
        "for epoch in range(0,EPOCHS):\n",
        "  \n",
        "  #############################Training##########################################\n",
        "  model.train()\n",
        "  avg_train_loss = train_for_one_epoch(train_dataloader) #avg train loss for the dataset\n",
        "  list_of_train_loss.append(avg_train_loss)\n",
        "\n",
        "  #############################Validation##########################################\n",
        "  model.eval()\n",
        "  avg_val_loss  = validation(val_dataloader)\n",
        "  list_of_val_loss.append(avg_val_loss)\n",
        "\n",
        "\n",
        "  \n",
        "\n",
        "\n",
        "\n"
      ],
      "metadata": {
        "id": "LktUC_HsPKu_",
        "colab": {
          "base_uri": "https://localhost:8080/"
        },
        "outputId": "9cd1c13f-f966-4688-b3f7-38e3b9b51b5a"
      },
      "execution_count": 59,
      "outputs": [
        {
          "output_type": "stream",
          "name": "stdout",
          "text": [
            "\n",
            "  Average training loss: 0.32\n",
            "  Training epooch took: 79.2056953907013\n",
            "\n",
            "  Average Validation loss: 0.47\n",
            "\n",
            "  Average training loss: 0.20\n",
            "  Training epooch took: 79.49057984352112\n",
            "\n",
            "  Average Validation loss: 0.66\n",
            "\n",
            "  Average training loss: 0.14\n",
            "  Training epooch took: 79.60934233665466\n",
            "\n",
            "  Average Validation loss: 0.66\n",
            "\n",
            "  Average training loss: 0.11\n",
            "  Training epooch took: 79.4964952468872\n",
            "\n",
            "  Average Validation loss: 0.72\n",
            "\n",
            "  Average training loss: 0.09\n",
            "  Training epooch took: 79.52828884124756\n",
            "\n",
            "  Average Validation loss: 0.76\n",
            "\n",
            "  Average training loss: 0.07\n",
            "  Training epooch took: 79.47564148902893\n",
            "\n",
            "  Average Validation loss: 0.94\n",
            "\n",
            "  Average training loss: 0.06\n",
            "  Training epooch took: 80.78760361671448\n",
            "\n",
            "  Average Validation loss: 0.82\n",
            "\n",
            "  Average training loss: 0.05\n",
            "  Training epooch took: 80.6359384059906\n",
            "\n",
            "  Average Validation loss: 0.98\n",
            "\n",
            "  Average training loss: 0.04\n",
            "  Training epooch took: 79.83895325660706\n",
            "\n",
            "  Average Validation loss: 1.02\n",
            "\n",
            "  Average training loss: 0.04\n",
            "  Training epooch took: 79.72588562965393\n",
            "\n",
            "  Average Validation loss: 1.19\n",
            "\n",
            "  Average training loss: 0.03\n",
            "  Training epooch took: 79.29797124862671\n",
            "\n",
            "  Average Validation loss: 1.08\n",
            "\n",
            "  Average training loss: 0.04\n",
            "  Training epooch took: 79.6289451122284\n",
            "\n",
            "  Average Validation loss: 0.92\n",
            "\n",
            "  Average training loss: 0.03\n",
            "  Training epooch took: 79.32142281532288\n",
            "\n",
            "  Average Validation loss: 1.29\n",
            "\n",
            "  Average training loss: 0.03\n",
            "  Training epooch took: 79.655433177948\n",
            "\n",
            "  Average Validation loss: 1.10\n",
            "\n",
            "  Average training loss: 0.02\n",
            "  Training epooch took: 79.40314030647278\n",
            "\n",
            "  Average Validation loss: 1.08\n",
            "\n",
            "  Average training loss: 0.02\n",
            "  Training epooch took: 79.48724389076233\n",
            "\n",
            "  Average Validation loss: 1.43\n",
            "\n",
            "  Average training loss: 0.02\n",
            "  Training epooch took: 79.52971291542053\n",
            "\n",
            "  Average Validation loss: 1.53\n",
            "\n",
            "  Average training loss: 0.02\n",
            "  Training epooch took: 79.44537568092346\n",
            "\n",
            "  Average Validation loss: 1.52\n",
            "\n",
            "  Average training loss: 0.02\n",
            "  Training epooch took: 79.48354887962341\n",
            "\n",
            "  Average Validation loss: 1.42\n",
            "\n",
            "  Average training loss: 0.03\n",
            "  Training epooch took: 79.49182081222534\n",
            "\n",
            "  Average Validation loss: 1.20\n",
            "\n",
            "  Average training loss: 0.02\n",
            "  Training epooch took: 79.46285963058472\n",
            "\n",
            "  Average Validation loss: 1.18\n",
            "\n",
            "  Average training loss: 0.03\n",
            "  Training epooch took: 79.51767349243164\n",
            "\n",
            "  Average Validation loss: 1.19\n",
            "\n",
            "  Average training loss: 0.02\n",
            "  Training epooch took: 79.34023571014404\n",
            "\n",
            "  Average Validation loss: 1.22\n",
            "\n",
            "  Average training loss: 0.02\n",
            "  Training epooch took: 79.69106698036194\n",
            "\n",
            "  Average Validation loss: 1.24\n",
            "\n",
            "  Average training loss: 0.02\n",
            "  Training epooch took: 79.29492568969727\n",
            "\n",
            "  Average Validation loss: 1.54\n",
            "\n",
            "  Average training loss: 0.02\n",
            "  Training epooch took: 79.54259085655212\n",
            "\n",
            "  Average Validation loss: 1.47\n",
            "\n",
            "  Average training loss: 0.02\n",
            "  Training epooch took: 79.49486756324768\n",
            "\n",
            "  Average Validation loss: 1.46\n",
            "\n",
            "  Average training loss: 0.01\n",
            "  Training epooch took: 79.60135865211487\n",
            "\n",
            "  Average Validation loss: 1.39\n",
            "\n",
            "  Average training loss: 0.01\n",
            "  Training epooch took: 79.30848813056946\n",
            "\n",
            "  Average Validation loss: 1.47\n",
            "\n",
            "  Average training loss: 0.02\n",
            "  Training epooch took: 79.58551549911499\n",
            "\n",
            "  Average Validation loss: 1.63\n",
            "\n",
            "  Average training loss: 0.02\n",
            "  Training epooch took: 79.35774636268616\n",
            "\n",
            "  Average Validation loss: 1.38\n",
            "\n",
            "  Average training loss: 0.01\n",
            "  Training epooch took: 79.54213166236877\n",
            "\n",
            "  Average Validation loss: 1.39\n",
            "\n",
            "  Average training loss: 0.02\n",
            "  Training epooch took: 79.43292498588562\n",
            "\n",
            "  Average Validation loss: 1.30\n",
            "\n",
            "  Average training loss: 0.02\n",
            "  Training epooch took: 79.57422733306885\n",
            "\n",
            "  Average Validation loss: 1.28\n",
            "\n",
            "  Average training loss: 0.02\n",
            "  Training epooch took: 79.4428858757019\n",
            "\n",
            "  Average Validation loss: 1.24\n",
            "\n",
            "  Average training loss: 0.02\n",
            "  Training epooch took: 79.52369976043701\n",
            "\n",
            "  Average Validation loss: 1.22\n",
            "\n",
            "  Average training loss: 0.02\n",
            "  Training epooch took: 79.48072624206543\n",
            "\n",
            "  Average Validation loss: 1.07\n",
            "\n",
            "  Average training loss: 0.01\n",
            "  Training epooch took: 80.6657726764679\n",
            "\n",
            "  Average Validation loss: 1.53\n",
            "\n",
            "  Average training loss: 0.02\n",
            "  Training epooch took: 80.33566904067993\n",
            "\n",
            "  Average Validation loss: 1.25\n",
            "\n",
            "  Average training loss: 0.01\n",
            "  Training epooch took: 80.05963635444641\n",
            "\n",
            "  Average Validation loss: 1.30\n",
            "\n",
            "  Average training loss: 0.02\n",
            "  Training epooch took: 79.4026746749878\n",
            "\n",
            "  Average Validation loss: 1.21\n",
            "\n",
            "  Average training loss: 0.02\n",
            "  Training epooch took: 79.43958902359009\n",
            "\n",
            "  Average Validation loss: 1.41\n",
            "\n",
            "  Average training loss: 0.01\n",
            "  Training epooch took: 79.33021855354309\n",
            "\n",
            "  Average Validation loss: 1.34\n",
            "\n",
            "  Average training loss: 0.02\n",
            "  Training epooch took: 79.45811986923218\n",
            "\n",
            "  Average Validation loss: 1.07\n",
            "\n",
            "  Average training loss: 0.02\n",
            "  Training epooch took: 79.43085598945618\n",
            "\n",
            "  Average Validation loss: 1.16\n",
            "\n",
            "  Average training loss: 0.02\n",
            "  Training epooch took: 79.48009276390076\n",
            "\n",
            "  Average Validation loss: 1.20\n",
            "\n",
            "  Average training loss: 0.01\n",
            "  Training epooch took: 79.38958549499512\n",
            "\n",
            "  Average Validation loss: 1.38\n",
            "\n",
            "  Average training loss: 0.01\n",
            "  Training epooch took: 79.53469514846802\n",
            "\n",
            "  Average Validation loss: 1.45\n",
            "\n",
            "  Average training loss: 0.01\n",
            "  Training epooch took: 79.3969783782959\n",
            "\n",
            "  Average Validation loss: 1.25\n",
            "\n",
            "  Average training loss: 0.01\n",
            "  Training epooch took: 79.4641318321228\n",
            "\n",
            "  Average Validation loss: 1.14\n"
          ]
        }
      ]
    },
    {
      "cell_type": "code",
      "source": [],
      "metadata": {
        "id": "PAA2qSVQlyxT"
      },
      "execution_count": null,
      "outputs": []
    },
    {
      "cell_type": "code",
      "source": [
        "from google.colab import drive\n",
        "drive.mount('/content/drive/')\n"
      ],
      "metadata": {
        "colab": {
          "base_uri": "https://localhost:8080/"
        },
        "id": "yx9pMGopl83U",
        "outputId": "5bffa2a2-061c-4706-dd52-c65e3cbba5f3"
      },
      "execution_count": 60,
      "outputs": [
        {
          "output_type": "stream",
          "name": "stdout",
          "text": [
            "Mounted at /content/drive/\n"
          ]
        }
      ]
    },
    {
      "cell_type": "code",
      "source": [
        "torch.save(model.state_dict,\"/content/drive/MyDrive/Learning Scratch pad/bert_12_freezed_50_epoch\")"
      ],
      "metadata": {
        "id": "ssQcQQH0loT6"
      },
      "execution_count": 64,
      "outputs": []
    },
    {
      "cell_type": "markdown",
      "source": [
        "##Plot the train and val loss"
      ],
      "metadata": {
        "id": "hCxaoGqab1v0"
      }
    },
    {
      "cell_type": "code",
      "source": [
        "import matplotlib.pyplot as plt\n",
        "\n",
        "fig = plt.figure(figsize=(5,5))\n",
        "\n",
        "axes = fig.add_axes([0,0,1,1])\n",
        "\n",
        "axes.plot(range(0,EPOCHS),list_of_train_loss,label=\"Train Loss\")\n",
        "axes.plot(range(0,EPOCHS),list_of_val_loss,label=\"Val Loss\")\n",
        "\n",
        "plt.legend(loc=(1.05,0.5))\n",
        "\n",
        "plt.xlabel(\"Epochs\")\n",
        "plt.ylabel(\"Loss\")\n",
        "plt.title(\"Train vs Val loss\")\n",
        "plt.show()"
      ],
      "metadata": {
        "id": "BvMQcDvEWEhC",
        "colab": {
          "base_uri": "https://localhost:8080/",
          "height": 602
        },
        "outputId": "eea0ccb5-cfeb-476c-88f9-65390c019006"
      },
      "execution_count": 63,
      "outputs": [
        {
          "output_type": "display_data",
          "data": {
            "text/plain": [
              "<Figure size 500x500 with 1 Axes>"
            ],
            "image/png": "[encoded data removed]"
          },
          "metadata": {}
        }
      ]
    },
    {
      "cell_type": "code",
      "source": [],
      "metadata": {
        "id": "bo_7JvDncdLH"
      },
      "execution_count": null,
      "outputs": []
    }
  ]
}